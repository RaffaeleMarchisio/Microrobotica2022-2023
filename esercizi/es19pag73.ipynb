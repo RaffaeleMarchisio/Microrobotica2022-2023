{
 "cells": [
  {
   "cell_type": "code",
   "execution_count": 14,
   "id": "676db264",
   "metadata": {},
   "outputs": [],
   "source": [
    "import csv,random"
   ]
  },
  {
   "cell_type": "code",
   "execution_count": 15,
   "id": "ba938ccf",
   "metadata": {
    "scrolled": true
   },
   "outputs": [
    {
     "data": {
      "text/plain": [
       "[[1, 1],\n",
       " [3, 5],\n",
       " [4, 6],\n",
       " [6, 1],\n",
       " [5, 6],\n",
       " [4, 5],\n",
       " [2, 2],\n",
       " [3, 2],\n",
       " [6, 6],\n",
       " [4, 2]]"
      ]
     },
     "execution_count": 15,
     "metadata": {},
     "output_type": "execute_result"
    }
   ],
   "source": [
    "lanci=[[random.randint(1,6) for _ in range(2)] for _ in range(10)]\n",
    "lanci"
   ]
  },
  {
   "cell_type": "code",
   "execution_count": 17,
   "id": "d75b7e46",
   "metadata": {},
   "outputs": [],
   "source": [
    "with open(\"lanci.csv\",\"w\") as filecsv:\n",
    "    filewriter=csv.writer(filecsv, delimiter=',')\n",
    "    filewriter.writerow([\"Alice\",\"Bob\"])\n",
    "    for e in range(len(lanci)):\n",
    "        filewriter.writerow(lanci[e])\n",
    "    "
   ]
  },
  {
   "cell_type": "code",
   "execution_count": null,
   "id": "5b336e8b",
   "metadata": {},
   "outputs": [],
   "source": []
  }
 ],
 "metadata": {
  "kernelspec": {
   "display_name": "Python 3 (ipykernel)",
   "language": "python",
   "name": "python3"
  },
  "language_info": {
   "codemirror_mode": {
    "name": "ipython",
    "version": 3
   },
   "file_extension": ".py",
   "mimetype": "text/x-python",
   "name": "python",
   "nbconvert_exporter": "python",
   "pygments_lexer": "ipython3",
   "version": "3.9.12"
  }
 },
 "nbformat": 4,
 "nbformat_minor": 5
}
