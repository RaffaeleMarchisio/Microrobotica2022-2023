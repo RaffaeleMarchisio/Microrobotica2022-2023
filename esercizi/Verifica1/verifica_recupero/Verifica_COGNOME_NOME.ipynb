{
 "cells": [
  {
   "cell_type": "markdown",
   "id": "4f637833",
   "metadata": {},
   "source": [
    "# COGNOME NOME"
   ]
  },
  {
   "cell_type": "code",
   "execution_count": 17,
   "id": "d785df4d",
   "metadata": {},
   "outputs": [],
   "source": [
    "import numpy as np"
   ]
  },
  {
   "cell_type": "markdown",
   "id": "0fd96616",
   "metadata": {},
   "source": [
    "# Esercizio 1\n",
    "Creare un notebook jupyter che a partire dal testo contenuto nel file ___\"J_Verne_girodelmondoin80giorni.txt\"___:\n",
    "\n",
    "1. crei un dizionario delle frequenze per ciascun carattere (**line feed escluso**); \n",
    "2. crei il dizionario delle adiacenze per ciascun carattere (**line feed escluso**);\n",
    "3. **[FACOLTATIVO]** crei un indice dei capitoli. Ogni capitolo inizia riportando il numero romano del capitolo e il suo titolo in questo modo:\n",
    "\n",
    ">CAPITOLO XXIX.\n",
    ">\n",
    ">Nel quale si narrano cose che capitano unicamente sulle ferrovie\n",
    ">americane."
   ]
  },
  {
   "cell_type": "code",
   "execution_count": 69,
   "id": "0c9fe227",
   "metadata": {},
   "outputs": [
    {
     "ename": "TypeError",
     "evalue": "'int' object is not subscriptable",
     "output_type": "error",
     "traceback": [
      "\u001b[0;31m---------------------------------------------------------------------------\u001b[0m",
      "\u001b[0;31mTypeError\u001b[0m                                 Traceback (most recent call last)",
      "\u001b[0;32m/tmp/ipykernel_6976/619816070.py\u001b[0m in \u001b[0;36m<module>\u001b[0;34m\u001b[0m\n\u001b[1;32m      8\u001b[0m \u001b[0;34m\u001b[0m\u001b[0m\n\u001b[1;32m      9\u001b[0m \u001b[0;32mfor\u001b[0m \u001b[0melemento\u001b[0m\u001b[0;34m,\u001b[0m\u001b[0mi\u001b[0m \u001b[0;32min\u001b[0m \u001b[0menumerate\u001b[0m\u001b[0;34m(\u001b[0m\u001b[0mlinee_div\u001b[0m\u001b[0;34m)\u001b[0m\u001b[0;34m:\u001b[0m\u001b[0;34m\u001b[0m\u001b[0;34m\u001b[0m\u001b[0m\n\u001b[0;32m---> 10\u001b[0;31m     \u001b[0mlinee_div_tot\u001b[0m\u001b[0;34m.\u001b[0m\u001b[0mappend\u001b[0m\u001b[0;34m(\u001b[0m\u001b[0melemento\u001b[0m\u001b[0;34m[\u001b[0m\u001b[0mi\u001b[0m\u001b[0;34m]\u001b[0m\u001b[0;34m.\u001b[0m\u001b[0msplit\u001b[0m\u001b[0;34m(\u001b[0m\u001b[0;34m)\u001b[0m\u001b[0;34m)\u001b[0m\u001b[0;34m\u001b[0m\u001b[0;34m\u001b[0m\u001b[0m\n\u001b[0m\u001b[1;32m     11\u001b[0m \u001b[0mlinee_div_tot\u001b[0m\u001b[0;34m\u001b[0m\u001b[0;34m\u001b[0m\u001b[0m\n\u001b[1;32m     12\u001b[0m \u001b[0;34m\u001b[0m\u001b[0m\n",
      "\u001b[0;31mTypeError\u001b[0m: 'int' object is not subscriptable"
     ]
    }
   ],
   "source": [
    "file=open( \"J_Verne_girodelmondoin80giorni.txt\",\"r\")\n",
    "linee=file.readlines()\n",
    "linee_div=[]\n",
    "linee_div_tot=[]\n",
    "for elemento in linee:\n",
    "\n",
    "    linee_div.append(elemento.split())\n",
    "    \n",
    "for elemento,i in linee_div:\n",
    "    linee_div_tot.append(elemento[i].split())\n",
    "linee_div_tot\n",
    " "
   ]
  },
  {
   "cell_type": "markdown",
   "id": "98c57cb3",
   "metadata": {},
   "source": [
    "# Esercizio 2\n",
    "Dato `n`numero intero maggiore o uguale a 2 crea una matrice di numpy che abbia la struttura seguente esemplificata, per il caso `n=7`. \n",
    "\n",
    "`[[1 2 1 2 1 2 1]\n",
    " [ 2 1 2 1 2 1 2]\n",
    " [ 1 2 1 2 1 2 1]\n",
    " [ 2 1 2 1 2 1 2]\n",
    " [ 1 2 1 2 1 2 1]\n",
    " [ 2 1 2 1 2 1 2]\n",
    " [ 1 2 1 2 1 2 1]]`\n",
    " "
   ]
  },
  {
   "cell_type": "code",
   "execution_count": 27,
   "id": "7615c020",
   "metadata": {},
   "outputs": [
    {
     "data": {
      "text/plain": [
       "array([[1, 2, 1, 2, 1, 2, 1],\n",
       "       [2, 1, 2, 1, 2, 1, 2],\n",
       "       [1, 2, 1, 2, 1, 2, 1],\n",
       "       [2, 1, 2, 1, 2, 1, 2],\n",
       "       [1, 2, 1, 2, 1, 2, 1],\n",
       "       [2, 1, 2, 1, 2, 1, 2],\n",
       "       [1, 2, 1, 2, 1, 2, 1]], dtype=int16)"
      ]
     },
     "execution_count": 27,
     "metadata": {},
     "output_type": "execute_result"
    }
   ],
   "source": [
    "n=7\n",
    "\n",
    "array=np.ones((n,n),dtype=np.int16)\n",
    "for i in range(0,len(array)):\n",
    "    if i%2==0:\n",
    "        array[i,1::2]=2\n",
    "    else:\n",
    "        array[i,::2]=2\n",
    "array"
   ]
  },
  {
   "cell_type": "markdown",
   "id": "a65b9c86",
   "metadata": {},
   "source": [
    "# Esercizio 3\n",
    "Crea un array unidimensionale di numpy lungo 21 elementi i cui valori sono 1,2 e 3 alernatici ciclicamente (`[1,2,3,1,2,3,.....]`)."
   ]
  },
  {
   "cell_type": "code",
   "execution_count": 65,
   "id": "fa173744",
   "metadata": {},
   "outputs": [
    {
     "data": {
      "text/plain": [
       "array([1, 2, 3, 1, 2, 3, 1, 2, 3, 1, 2, 3, 1, 2, 3, 1, 2, 3, 1, 2, 3],\n",
       "      dtype=int16)"
      ]
     },
     "execution_count": 65,
     "metadata": {},
     "output_type": "execute_result"
    }
   ],
   "source": [
    "array=np.ones(21,dtype=np.int16)\n",
    "array[1::3]=2\n",
    "array[2::3]=3\n",
    "array"
   ]
  },
  {
   "cell_type": "code",
   "execution_count": null,
   "id": "4270ff73",
   "metadata": {},
   "outputs": [],
   "source": []
  },
  {
   "cell_type": "code",
   "execution_count": null,
   "id": "dcf66d03",
   "metadata": {},
   "outputs": [],
   "source": []
  }
 ],
 "metadata": {
  "kernelspec": {
   "display_name": "Python 3 (ipykernel)",
   "language": "python",
   "name": "python3"
  },
  "language_info": {
   "codemirror_mode": {
    "name": "ipython",
    "version": 3
   },
   "file_extension": ".py",
   "mimetype": "text/x-python",
   "name": "python",
   "nbconvert_exporter": "python",
   "pygments_lexer": "ipython3",
   "version": "3.9.13"
  }
 },
 "nbformat": 4,
 "nbformat_minor": 5
}
