{
 "cells": [
  {
   "cell_type": "markdown",
   "id": "44ce9d47",
   "metadata": {},
   "source": [
    "# Verifica su Python e introduzione a Numpy\n",
    "### COGNOME NOME"
   ]
  },
  {
   "cell_type": "markdown",
   "id": "e75da7dd",
   "metadata": {},
   "source": [
    "## ESERCIZIO 1\n",
    "Il file *robots.txt* contiene un frammento del vero file *robots.txt* di un importante quotidiano online. Tutte le righe che iniziano con la parola chiave `Disallow:` contengono le URL di pagine del quotidiano alle quali i software automatici di web crawling o di indicizzazione non dovrebbero mai accedere. La prima directory della URL indica la tipologia di notizia a cui punta l'URL. Per esempio la riga `Disallow: /economia/finanza-personale/2010/Prova-Metadati_a1b5a008-f178-11df-8c4b-00144f02aabc.shtml`fa riferimento a una notizia di **economia**.\n",
    "\n",
    "Crea un programma in Python 3 che legga il file e generi un dizionario in cui:\n",
    "* la chiave è la tipologia di notizia,\n",
    "* il valore è il numero di notizie di quella tipologia."
   ]
  },
  {
   "cell_type": "code",
   "execution_count": 6,
   "id": "c238539f",
   "metadata": {},
   "outputs": [],
   "source": [
    "#soluzione\n",
    "from collections import Counter\n",
    "file=open(\"robots.txt\",\"r\")\n",
    "linee=file.readlines()\n",
    "file.close()"
   ]
  },
  {
   "cell_type": "code",
   "execution_count": 7,
   "id": "90744f19",
   "metadata": {},
   "outputs": [],
   "source": [
    "linee_sep=[i.split(\"/\") for i in linee]\n",
    "valore_tipologia=[]\n",
    "linee_sep.remove(linee_sep[0])"
   ]
  },
  {
   "cell_type": "code",
   "execution_count": 8,
   "id": "449722fc",
   "metadata": {},
   "outputs": [
    {
     "data": {
      "text/plain": [
       "Counter({'politica': 17,\n",
       "         'esteri': 1,\n",
       "         'cronache': 34,\n",
       "         'sport': 1,\n",
       "         'economia': 6,\n",
       "         'scienze_e_tecnologie': 1,\n",
       "         'spettacoli': 2,\n",
       "         'Primo_Piano': 45,\n",
       "         'ioscrivo': 1,\n",
       "         'notizie-ultima-ora': 7,\n",
       "         'cultura': 3,\n",
       "         'gallery': 1,\n",
       "         'sette': 1,\n",
       "         'inchieste': 1})"
      ]
     },
     "execution_count": 8,
     "metadata": {},
     "output_type": "execute_result"
    }
   ],
   "source": [
    "for valore in linee_sep:\n",
    "    valore_tipologia.append(valore[1])\n",
    "\n",
    "dic_tipologia_volte= Counter(valore_tipologia)\n",
    "dic_tipologia_volte"
   ]
  },
  {
   "cell_type": "markdown",
   "id": "8446b35f",
   "metadata": {},
   "source": [
    "## ESERCIZIO 2\n",
    "Crea un array di numpy che contenga tutti i numeri interi tra 2 e 1000 (estremi inclusi), ma nel quale tutti i numeri divisibili per 7 sono sostituiti da uno 0. Infine crea un array contenente tutti i numeri interi tra 2 e 1000 (estremi inclusi) ma privo di tutti i numeri divisibili per 7."
   ]
  },
  {
   "cell_type": "code",
   "execution_count": 10,
   "id": "dd7a28bb",
   "metadata": {},
   "outputs": [
    {
     "data": {
      "text/plain": [
       "array([   2,    3,    4,    5,    6,    0,    8,    9,   10,   11,   12,\n",
       "         13,    0,   15,   16,   17,   18,   19,   20,    0,   22,   23,\n",
       "         24,   25,   26,   27,    0,   29,   30,   31,   32,   33,   34,\n",
       "          0,   36,   37,   38,   39,   40,   41,    0,   43,   44,   45,\n",
       "         46,   47,   48,    0,   50,   51,   52,   53,   54,   55,    0,\n",
       "         57,   58,   59,   60,   61,   62,    0,   64,   65,   66,   67,\n",
       "         68,   69,    0,   71,   72,   73,   74,   75,   76,    0,   78,\n",
       "         79,   80,   81,   82,   83,    0,   85,   86,   87,   88,   89,\n",
       "         90,    0,   92,   93,   94,   95,   96,   97,    0,   99,  100,\n",
       "        101,  102,  103,  104,    0,  106,  107,  108,  109,  110,  111,\n",
       "          0,  113,  114,  115,  116,  117,  118,    0,  120,  121,  122,\n",
       "        123,  124,  125,    0,  127,  128,  129,  130,  131,  132,    0,\n",
       "        134,  135,  136,  137,  138,  139,    0,  141,  142,  143,  144,\n",
       "        145,  146,    0,  148,  149,  150,  151,  152,  153,    0,  155,\n",
       "        156,  157,  158,  159,  160,    0,  162,  163,  164,  165,  166,\n",
       "        167,    0,  169,  170,  171,  172,  173,  174,    0,  176,  177,\n",
       "        178,  179,  180,  181,    0,  183,  184,  185,  186,  187,  188,\n",
       "          0,  190,  191,  192,  193,  194,  195,    0,  197,  198,  199,\n",
       "        200,  201,  202,    0,  204,  205,  206,  207,  208,  209,    0,\n",
       "        211,  212,  213,  214,  215,  216,    0,  218,  219,  220,  221,\n",
       "        222,  223,    0,  225,  226,  227,  228,  229,  230,    0,  232,\n",
       "        233,  234,  235,  236,  237,    0,  239,  240,  241,  242,  243,\n",
       "        244,    0,  246,  247,  248,  249,  250,  251,    0,  253,  254,\n",
       "        255,  256,  257,  258,    0,  260,  261,  262,  263,  264,  265,\n",
       "          0,  267,  268,  269,  270,  271,  272,    0,  274,  275,  276,\n",
       "        277,  278,  279,    0,  281,  282,  283,  284,  285,  286,    0,\n",
       "        288,  289,  290,  291,  292,  293,    0,  295,  296,  297,  298,\n",
       "        299,  300,    0,  302,  303,  304,  305,  306,  307,    0,  309,\n",
       "        310,  311,  312,  313,  314,    0,  316,  317,  318,  319,  320,\n",
       "        321,    0,  323,  324,  325,  326,  327,  328,    0,  330,  331,\n",
       "        332,  333,  334,  335,    0,  337,  338,  339,  340,  341,  342,\n",
       "          0,  344,  345,  346,  347,  348,  349,    0,  351,  352,  353,\n",
       "        354,  355,  356,    0,  358,  359,  360,  361,  362,  363,    0,\n",
       "        365,  366,  367,  368,  369,  370,    0,  372,  373,  374,  375,\n",
       "        376,  377,    0,  379,  380,  381,  382,  383,  384,    0,  386,\n",
       "        387,  388,  389,  390,  391,    0,  393,  394,  395,  396,  397,\n",
       "        398,    0,  400,  401,  402,  403,  404,  405,    0,  407,  408,\n",
       "        409,  410,  411,  412,    0,  414,  415,  416,  417,  418,  419,\n",
       "          0,  421,  422,  423,  424,  425,  426,    0,  428,  429,  430,\n",
       "        431,  432,  433,    0,  435,  436,  437,  438,  439,  440,    0,\n",
       "        442,  443,  444,  445,  446,  447,    0,  449,  450,  451,  452,\n",
       "        453,  454,    0,  456,  457,  458,  459,  460,  461,    0,  463,\n",
       "        464,  465,  466,  467,  468,    0,  470,  471,  472,  473,  474,\n",
       "        475,    0,  477,  478,  479,  480,  481,  482,    0,  484,  485,\n",
       "        486,  487,  488,  489,    0,  491,  492,  493,  494,  495,  496,\n",
       "          0,  498,  499,  500,  501,  502,  503,    0,  505,  506,  507,\n",
       "        508,  509,  510,    0,  512,  513,  514,  515,  516,  517,    0,\n",
       "        519,  520,  521,  522,  523,  524,    0,  526,  527,  528,  529,\n",
       "        530,  531,    0,  533,  534,  535,  536,  537,  538,    0,  540,\n",
       "        541,  542,  543,  544,  545,    0,  547,  548,  549,  550,  551,\n",
       "        552,    0,  554,  555,  556,  557,  558,  559,    0,  561,  562,\n",
       "        563,  564,  565,  566,    0,  568,  569,  570,  571,  572,  573,\n",
       "          0,  575,  576,  577,  578,  579,  580,    0,  582,  583,  584,\n",
       "        585,  586,  587,    0,  589,  590,  591,  592,  593,  594,    0,\n",
       "        596,  597,  598,  599,  600,  601,    0,  603,  604,  605,  606,\n",
       "        607,  608,    0,  610,  611,  612,  613,  614,  615,    0,  617,\n",
       "        618,  619,  620,  621,  622,    0,  624,  625,  626,  627,  628,\n",
       "        629,    0,  631,  632,  633,  634,  635,  636,    0,  638,  639,\n",
       "        640,  641,  642,  643,    0,  645,  646,  647,  648,  649,  650,\n",
       "          0,  652,  653,  654,  655,  656,  657,    0,  659,  660,  661,\n",
       "        662,  663,  664,    0,  666,  667,  668,  669,  670,  671,    0,\n",
       "        673,  674,  675,  676,  677,  678,    0,  680,  681,  682,  683,\n",
       "        684,  685,    0,  687,  688,  689,  690,  691,  692,    0,  694,\n",
       "        695,  696,  697,  698,  699,    0,  701,  702,  703,  704,  705,\n",
       "        706,    0,  708,  709,  710,  711,  712,  713,    0,  715,  716,\n",
       "        717,  718,  719,  720,    0,  722,  723,  724,  725,  726,  727,\n",
       "          0,  729,  730,  731,  732,  733,  734,    0,  736,  737,  738,\n",
       "        739,  740,  741,    0,  743,  744,  745,  746,  747,  748,    0,\n",
       "        750,  751,  752,  753,  754,  755,    0,  757,  758,  759,  760,\n",
       "        761,  762,    0,  764,  765,  766,  767,  768,  769,    0,  771,\n",
       "        772,  773,  774,  775,  776,    0,  778,  779,  780,  781,  782,\n",
       "        783,    0,  785,  786,  787,  788,  789,  790,    0,  792,  793,\n",
       "        794,  795,  796,  797,    0,  799,  800,  801,  802,  803,  804,\n",
       "          0,  806,  807,  808,  809,  810,  811,    0,  813,  814,  815,\n",
       "        816,  817,  818,    0,  820,  821,  822,  823,  824,  825,    0,\n",
       "        827,  828,  829,  830,  831,  832,    0,  834,  835,  836,  837,\n",
       "        838,  839,    0,  841,  842,  843,  844,  845,  846,    0,  848,\n",
       "        849,  850,  851,  852,  853,    0,  855,  856,  857,  858,  859,\n",
       "        860,    0,  862,  863,  864,  865,  866,  867,    0,  869,  870,\n",
       "        871,  872,  873,  874,    0,  876,  877,  878,  879,  880,  881,\n",
       "          0,  883,  884,  885,  886,  887,  888,    0,  890,  891,  892,\n",
       "        893,  894,  895,    0,  897,  898,  899,  900,  901,  902,    0,\n",
       "        904,  905,  906,  907,  908,  909,    0,  911,  912,  913,  914,\n",
       "        915,  916,    0,  918,  919,  920,  921,  922,  923,    0,  925,\n",
       "        926,  927,  928,  929,  930,    0,  932,  933,  934,  935,  936,\n",
       "        937,    0,  939,  940,  941,  942,  943,  944,    0,  946,  947,\n",
       "        948,  949,  950,  951,    0,  953,  954,  955,  956,  957,  958,\n",
       "          0,  960,  961,  962,  963,  964,  965,    0,  967,  968,  969,\n",
       "        970,  971,  972,    0,  974,  975,  976,  977,  978,  979,    0,\n",
       "        981,  982,  983,  984,  985,  986,    0,  988,  989,  990,  991,\n",
       "        992,  993,    0,  995,  996,  997,  998,  999, 1000])"
      ]
     },
     "execution_count": 10,
     "metadata": {},
     "output_type": "execute_result"
    }
   ],
   "source": [
    "#soluzione\n",
    "import numpy as np\n",
    "array_dizeri=np.zeros(1001,dtype=np.int16)\n",
    "array_con_zeri=np.arange(2,1001)\n",
    "array_con_zeri[5::7]=0\n",
    "array_con_zeri"
   ]
  },
  {
   "cell_type": "code",
   "execution_count": 9,
   "id": "684db2d2",
   "metadata": {},
   "outputs": [
    {
     "data": {
      "text/plain": [
       "array([   2,    3,    4,    5,    6,    8,    9,   10,   11,   12,   13,\n",
       "         15,   16,   17,   18,   19,   20,   22,   23,   24,   25,   26,\n",
       "         27,   29,   30,   31,   32,   33,   34,   36,   37,   38,   39,\n",
       "         40,   41,   43,   44,   45,   46,   47,   48,   50,   51,   52,\n",
       "         53,   54,   55,   57,   58,   59,   60,   61,   62,   64,   65,\n",
       "         66,   67,   68,   69,   71,   72,   73,   74,   75,   76,   78,\n",
       "         79,   80,   81,   82,   83,   85,   86,   87,   88,   89,   90,\n",
       "         92,   93,   94,   95,   96,   97,   99,  100,  101,  102,  103,\n",
       "        104,  106,  107,  108,  109,  110,  111,  113,  114,  115,  116,\n",
       "        117,  118,  120,  121,  122,  123,  124,  125,  127,  128,  129,\n",
       "        130,  131,  132,  134,  135,  136,  137,  138,  139,  141,  142,\n",
       "        143,  144,  145,  146,  148,  149,  150,  151,  152,  153,  155,\n",
       "        156,  157,  158,  159,  160,  162,  163,  164,  165,  166,  167,\n",
       "        169,  170,  171,  172,  173,  174,  176,  177,  178,  179,  180,\n",
       "        181,  183,  184,  185,  186,  187,  188,  190,  191,  192,  193,\n",
       "        194,  195,  197,  198,  199,  200,  201,  202,  204,  205,  206,\n",
       "        207,  208,  209,  211,  212,  213,  214,  215,  216,  218,  219,\n",
       "        220,  221,  222,  223,  225,  226,  227,  228,  229,  230,  232,\n",
       "        233,  234,  235,  236,  237,  239,  240,  241,  242,  243,  244,\n",
       "        246,  247,  248,  249,  250,  251,  253,  254,  255,  256,  257,\n",
       "        258,  260,  261,  262,  263,  264,  265,  267,  268,  269,  270,\n",
       "        271,  272,  274,  275,  276,  277,  278,  279,  281,  282,  283,\n",
       "        284,  285,  286,  288,  289,  290,  291,  292,  293,  295,  296,\n",
       "        297,  298,  299,  300,  302,  303,  304,  305,  306,  307,  309,\n",
       "        310,  311,  312,  313,  314,  316,  317,  318,  319,  320,  321,\n",
       "        323,  324,  325,  326,  327,  328,  330,  331,  332,  333,  334,\n",
       "        335,  337,  338,  339,  340,  341,  342,  344,  345,  346,  347,\n",
       "        348,  349,  351,  352,  353,  354,  355,  356,  358,  359,  360,\n",
       "        361,  362,  363,  365,  366,  367,  368,  369,  370,  372,  373,\n",
       "        374,  375,  376,  377,  379,  380,  381,  382,  383,  384,  386,\n",
       "        387,  388,  389,  390,  391,  393,  394,  395,  396,  397,  398,\n",
       "        400,  401,  402,  403,  404,  405,  407,  408,  409,  410,  411,\n",
       "        412,  414,  415,  416,  417,  418,  419,  421,  422,  423,  424,\n",
       "        425,  426,  428,  429,  430,  431,  432,  433,  435,  436,  437,\n",
       "        438,  439,  440,  442,  443,  444,  445,  446,  447,  449,  450,\n",
       "        451,  452,  453,  454,  456,  457,  458,  459,  460,  461,  463,\n",
       "        464,  465,  466,  467,  468,  470,  471,  472,  473,  474,  475,\n",
       "        477,  478,  479,  480,  481,  482,  484,  485,  486,  487,  488,\n",
       "        489,  491,  492,  493,  494,  495,  496,  498,  499,  500,  501,\n",
       "        502,  503,  505,  506,  507,  508,  509,  510,  512,  513,  514,\n",
       "        515,  516,  517,  519,  520,  521,  522,  523,  524,  526,  527,\n",
       "        528,  529,  530,  531,  533,  534,  535,  536,  537,  538,  540,\n",
       "        541,  542,  543,  544,  545,  547,  548,  549,  550,  551,  552,\n",
       "        554,  555,  556,  557,  558,  559,  561,  562,  563,  564,  565,\n",
       "        566,  568,  569,  570,  571,  572,  573,  575,  576,  577,  578,\n",
       "        579,  580,  582,  583,  584,  585,  586,  587,  589,  590,  591,\n",
       "        592,  593,  594,  596,  597,  598,  599,  600,  601,  603,  604,\n",
       "        605,  606,  607,  608,  610,  611,  612,  613,  614,  615,  617,\n",
       "        618,  619,  620,  621,  622,  624,  625,  626,  627,  628,  629,\n",
       "        631,  632,  633,  634,  635,  636,  638,  639,  640,  641,  642,\n",
       "        643,  645,  646,  647,  648,  649,  650,  652,  653,  654,  655,\n",
       "        656,  657,  659,  660,  661,  662,  663,  664,  666,  667,  668,\n",
       "        669,  670,  671,  673,  674,  675,  676,  677,  678,  680,  681,\n",
       "        682,  683,  684,  685,  687,  688,  689,  690,  691,  692,  694,\n",
       "        695,  696,  697,  698,  699,  701,  702,  703,  704,  705,  706,\n",
       "        708,  709,  710,  711,  712,  713,  715,  716,  717,  718,  719,\n",
       "        720,  722,  723,  724,  725,  726,  727,  729,  730,  731,  732,\n",
       "        733,  734,  736,  737,  738,  739,  740,  741,  743,  744,  745,\n",
       "        746,  747,  748,  750,  751,  752,  753,  754,  755,  757,  758,\n",
       "        759,  760,  761,  762,  764,  765,  766,  767,  768,  769,  771,\n",
       "        772,  773,  774,  775,  776,  778,  779,  780,  781,  782,  783,\n",
       "        785,  786,  787,  788,  789,  790,  792,  793,  794,  795,  796,\n",
       "        797,  799,  800,  801,  802,  803,  804,  806,  807,  808,  809,\n",
       "        810,  811,  813,  814,  815,  816,  817,  818,  820,  821,  822,\n",
       "        823,  824,  825,  827,  828,  829,  830,  831,  832,  834,  835,\n",
       "        836,  837,  838,  839,  841,  842,  843,  844,  845,  846,  848,\n",
       "        849,  850,  851,  852,  853,  855,  856,  857,  858,  859,  860,\n",
       "        862,  863,  864,  865,  866,  867,  869,  870,  871,  872,  873,\n",
       "        874,  876,  877,  878,  879,  880,  881,  883,  884,  885,  886,\n",
       "        887,  888,  890,  891,  892,  893,  894,  895,  897,  898,  899,\n",
       "        900,  901,  902,  904,  905,  906,  907,  908,  909,  911,  912,\n",
       "        913,  914,  915,  916,  918,  919,  920,  921,  922,  923,  925,\n",
       "        926,  927,  928,  929,  930,  932,  933,  934,  935,  936,  937,\n",
       "        939,  940,  941,  942,  943,  944,  946,  947,  948,  949,  950,\n",
       "        951,  953,  954,  955,  956,  957,  958,  960,  961,  962,  963,\n",
       "        964,  965,  967,  968,  969,  970,  971,  972,  974,  975,  976,\n",
       "        977,  978,  979,  981,  982,  983,  984,  985,  986,  988,  989,\n",
       "        990,  991,  992,  993,  995,  996,  997,  998,  999, 1000])"
      ]
     },
     "execution_count": 9,
     "metadata": {},
     "output_type": "execute_result"
    }
   ],
   "source": [
    "array=np.arange(2,1001)\n",
    "array_7=array[array % 7!= 0]\n",
    "array_7"
   ]
  },
  {
   "cell_type": "markdown",
   "id": "67ec09e9",
   "metadata": {},
   "source": [
    "## ESERCIZIO 3\n",
    "Dato `n`numero intero dispari maggioreo uguale a 5 crea una matrice di numpy che abbia la struttura seguente esemplificata, per il caso `n=7`. \n",
    "\n",
    "`[[0.35012821 0.13462121 0.38492916 0.51293425 0.25255366 0.85166111 0.59550361]\n",
    " [0.47468085 0.         0.         1.         0.         0.         0.18300893]\n",
    " [0.23703845 0.         0.         1.         0.         0.         0.89905447]\n",
    " [0.52372585 1.         1.         1.         1.         1.         0.95780342]\n",
    " [0.51881137 0.         0.         1.         0.         0.         0.03430885]\n",
    " [0.09985312 0.         0.         1.         0.         0.         0.78938087]\n",
    " [0.37453082 0.21909742 0.6154127  0.89541758 0.79158936 0.68202705 0.82876577]`\n",
    " \n",
    "La cornice della matrice deve essere composta di numeri pseudocasuali compresi tra 0 e 1, mentre l'interno deve essere riempito di 0 tranne nella riga e nella colonna mediane, le quali conterrano degli 1.\n",
    " "
   ]
  },
  {
   "cell_type": "code",
   "execution_count": 28,
   "id": "744604f2",
   "metadata": {},
   "outputs": [
    {
     "data": {
      "text/plain": [
       "array([[0.44493877, 0.21609714, 0.79632061, ..., 0.34254632, 0.69292525,\n",
       "        0.67633367],\n",
       "       [0.2468832 , 0.28834806, 0.70085075, ..., 0.45883896, 0.89258213,\n",
       "        0.36837999],\n",
       "       [0.09628798, 0.70588404, 0.17757842, ..., 0.97408781, 0.25432417,\n",
       "        0.56602687],\n",
       "       ...,\n",
       "       [0.56944735, 0.93417473, 0.41683105, ..., 0.79721914, 0.294823  ,\n",
       "        0.15746376],\n",
       "       [0.79010303, 0.39749155, 0.3779822 , ..., 0.12617323, 0.44756763,\n",
       "        0.06899916],\n",
       "       [0.31670028, 0.42276794, 0.42434625, ..., 0.36715639, 0.92360226,\n",
       "        0.09078649]])"
      ]
     },
     "execution_count": 28,
     "metadata": {},
     "output_type": "execute_result"
    }
   ],
   "source": [
    "import numpy as np\n",
    "\n",
    "n = 100\n",
    "matrice=np.random.uniform(0,1,(n,n))\n",
    "matrice"
   ]
  },
  {
   "cell_type": "code",
   "execution_count": 29,
   "id": "e2264707",
   "metadata": {},
   "outputs": [
    {
     "data": {
      "text/plain": [
       "array([[0.44493877, 0.21609714, 0.79632061, ..., 0.34254632, 0.69292525,\n",
       "        0.67633367],\n",
       "       [0.2468832 , 0.        , 0.        , ..., 0.        , 0.        ,\n",
       "        0.36837999],\n",
       "       [0.09628798, 0.        , 0.        , ..., 0.        , 0.        ,\n",
       "        0.56602687],\n",
       "       ...,\n",
       "       [0.56944735, 0.        , 0.        , ..., 0.        , 0.        ,\n",
       "        0.15746376],\n",
       "       [0.79010303, 0.        , 0.        , ..., 0.        , 0.        ,\n",
       "        0.06899916],\n",
       "       [0.31670028, 0.42276794, 0.42434625, ..., 0.36715639, 0.92360226,\n",
       "        0.09078649]])"
      ]
     },
     "execution_count": 29,
     "metadata": {},
     "output_type": "execute_result"
    }
   ],
   "source": [
    "matrice[1:-1,1:-1]=0\n",
    "matrice"
   ]
  },
  {
   "cell_type": "code",
   "execution_count": 30,
   "id": "f6978f9d",
   "metadata": {},
   "outputs": [
    {
     "data": {
      "text/plain": [
       "array([[0.44493877, 0.21609714, 0.79632061, ..., 0.34254632, 0.69292525,\n",
       "        0.67633367],\n",
       "       [0.2468832 , 0.        , 0.        , ..., 0.        , 0.        ,\n",
       "        0.36837999],\n",
       "       [0.09628798, 0.        , 0.        , ..., 0.        , 0.        ,\n",
       "        0.56602687],\n",
       "       ...,\n",
       "       [0.56944735, 0.        , 0.        , ..., 0.        , 0.        ,\n",
       "        0.15746376],\n",
       "       [0.79010303, 0.        , 0.        , ..., 0.        , 0.        ,\n",
       "        0.06899916],\n",
       "       [0.31670028, 0.42276794, 0.42434625, ..., 0.36715639, 0.92360226,\n",
       "        0.09078649]])"
      ]
     },
     "execution_count": 30,
     "metadata": {},
     "output_type": "execute_result"
    }
   ],
   "source": [
    "c=n//2\n",
    "matrice[c,1:-1]=1\n",
    "matrice"
   ]
  },
  {
   "cell_type": "code",
   "execution_count": 31,
   "id": "3bb208ea",
   "metadata": {},
   "outputs": [
    {
     "data": {
      "text/plain": [
       "array([[0.44493877, 0.21609714, 0.79632061, ..., 0.34254632, 0.69292525,\n",
       "        0.67633367],\n",
       "       [0.2468832 , 0.        , 0.        , ..., 0.        , 0.        ,\n",
       "        0.36837999],\n",
       "       [0.09628798, 0.        , 0.        , ..., 0.        , 0.        ,\n",
       "        0.56602687],\n",
       "       ...,\n",
       "       [0.56944735, 0.        , 0.        , ..., 0.        , 0.        ,\n",
       "        0.15746376],\n",
       "       [0.79010303, 0.        , 0.        , ..., 0.        , 0.        ,\n",
       "        0.06899916],\n",
       "       [0.31670028, 0.42276794, 0.42434625, ..., 0.36715639, 0.92360226,\n",
       "        0.09078649]])"
      ]
     },
     "execution_count": 31,
     "metadata": {},
     "output_type": "execute_result"
    }
   ],
   "source": [
    "matrice[1:-1,c]=1\n",
    "matrice"
   ]
  },
  {
   "cell_type": "code",
   "execution_count": 33,
   "id": "5aa212b5",
   "metadata": {},
   "outputs": [
    {
     "data": {
      "text/plain": [
       "<matplotlib.image.AxesImage at 0x7efd38c3fbe0>"
      ]
     },
     "execution_count": 33,
     "metadata": {},
     "output_type": "execute_result"
    },
    {
     "data": {
      "image/png": "[encoded data removed]",
      "text/plain": [
       "<Figure size 640x480 with 1 Axes>"
      ]
     },
     "metadata": {},
     "output_type": "display_data"
    }
   ],
   "source": [
    "import matplotlib.pyplot as plt\n",
    "\n",
    "plt.imshow(matrice,cmap=\"gnuplot\")"
   ]
  },
  {
   "cell_type": "code",
   "execution_count": null,
   "id": "83d0f29f",
   "metadata": {},
   "outputs": [],
   "source": []
  }
 ],
 "metadata": {
  "kernelspec": {
   "display_name": "Python 3 (ipykernel)",
   "language": "python",
   "name": "python3"
  },
  "language_info": {
   "codemirror_mode": {
    "name": "ipython",
    "version": 3
   },
   "file_extension": ".py",
   "mimetype": "text/x-python",
   "name": "python",
   "nbconvert_exporter": "python",
   "pygments_lexer": "ipython3",
   "version": "3.9.13"
  }
 },
 "nbformat": 4,
 "nbformat_minor": 5
}
