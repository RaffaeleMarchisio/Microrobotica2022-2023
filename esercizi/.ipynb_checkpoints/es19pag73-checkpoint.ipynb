{
 "cells": [
  {
   "cell_type": "code",
   "execution_count": 3,
   "id": "2d56fcbc",
   "metadata": {},
   "outputs": [],
   "source": [
    "import csv\n",
    "import random"
   ]
  },
  {
   "cell_type": "code",
   "execution_count": 24,
   "id": "c1a51d1d",
   "metadata": {
    "scrolled": true
   },
   "outputs": [
    {
     "data": {
      "text/plain": [
       "[[4, 6],\n",
       " [5, 5],\n",
       " [0, 0],\n",
       " [1, 6],\n",
       " [1, 4],\n",
       " [6, 0],\n",
       " [2, 2],\n",
       " [2, 2],\n",
       " [6, 4],\n",
       " [4, 6]]"
      ]
     },
     "execution_count": 24,
     "metadata": {},
     "output_type": "execute_result"
    }
   ],
   "source": [
    "lanci=[[random.randint(0,6) for d in range(2)] for i in range(10)]\n",
    "lanci"
   ]
  },
  {
   "cell_type": "code",
   "execution_count": 25,
   "id": "98f627d1",
   "metadata": {},
   "outputs": [],
   "source": [
    "with open(\"lanci.csv\",\"w\") as filecsv:\n",
    "    filewriter=csv.writer(filecsv, delimiter=',')\n",
    "    filewriter.writerow([\"Alice\",\"Bob\"])\n",
    "    for e in range(10):\n",
    "        filewriter.writerow(lanci[e])\n",
    "    "
   ]
  },
  {
   "cell_type": "code",
   "execution_count": null,
   "id": "38db8a0b",
   "metadata": {},
   "outputs": [],
   "source": []
  }
 ],
 "metadata": {
  "kernelspec": {
   "display_name": "Python 3 (ipykernel)",
   "language": "python",
   "name": "python3"
  },
  "language_info": {
   "codemirror_mode": {
    "name": "ipython",
    "version": 3
   },
   "file_extension": ".py",
   "mimetype": "text/x-python",
   "name": "python",
   "nbconvert_exporter": "python",
   "pygments_lexer": "ipython3",
   "version": "3.9.12"
  }
 },
 "nbformat": 4,
 "nbformat_minor": 5
}
