{
 "cells": [
  {
   "cell_type": "code",
   "execution_count": 1,
   "id": "25108d11",
   "metadata": {},
   "outputs": [],
   "source": [
    "import matplotlib.pyplot as plt\n",
    "import numpy as np"
   ]
  },
  {
   "cell_type": "code",
   "execution_count": 7,
   "id": "6c63e1a5",
   "metadata": {},
   "outputs": [],
   "source": [
    "dim=200"
   ]
  },
  {
   "cell_type": "code",
   "execution_count": 18,
   "id": "b31e3169",
   "metadata": {},
   "outputs": [
    {
     "data": {
      "text/plain": [
       "array([[0., 0., 0., ..., 1., 1., 1.],\n",
       "       [0., 0., 0., ..., 1., 1., 1.],\n",
       "       [0., 0., 0., ..., 1., 1., 1.],\n",
       "       ...,\n",
       "       [1., 1., 1., ..., 0., 0., 0.],\n",
       "       [1., 1., 1., ..., 0., 0., 0.],\n",
       "       [1., 1., 1., ..., 0., 0., 0.]])"
      ]
     },
     "execution_count": 18,
     "metadata": {},
     "output_type": "execute_result"
    },
    {
     "data": {
      "image/png": "[encoded data removed]",
      "text/plain": [
       "<Figure size 640x480 with 1 Axes>"
      ]
     },
     "metadata": {},
     "output_type": "display_data"
    }
   ],
   "source": [
    "immagine=np.ones((dim,dim))\n",
    "\n",
    "immagine[0:50,0:50]=0\n",
    "immagine[0:50,100:150]=0\n",
    "immagine[50:100,50:100]=0\n",
    "immagine[50:100,150:200]=0\n",
    "immagine[100:150,0:50]=0\n",
    "immagine[100:150,100:150]=0\n",
    "immagine[150:200,50:100]=0\n",
    "immagine[150:200,150:200]=0\n",
    "plt.imshow(immagine)\n",
    "immagine"
   ]
  },
  {
   "cell_type": "code",
   "execution_count": null,
   "id": "3068b8bb",
   "metadata": {},
   "outputs": [],
   "source": []
  },
  {
   "cell_type": "code",
   "execution_count": null,
   "id": "5b712bea",
   "metadata": {},
   "outputs": [],
   "source": []
  },
  {
   "cell_type": "code",
   "execution_count": null,
   "id": "1b70261a",
   "metadata": {},
   "outputs": [],
   "source": []
  }
 ],
 "metadata": {
  "kernelspec": {
   "display_name": "Python 3 (ipykernel)",
   "language": "python",
   "name": "python3"
  },
  "language_info": {
   "codemirror_mode": {
    "name": "ipython",
    "version": 3
   },
   "file_extension": ".py",
   "mimetype": "text/x-python",
   "name": "python",
   "nbconvert_exporter": "python",
   "pygments_lexer": "ipython3",
   "version": "3.9.13"
  }
 },
 "nbformat": 4,
 "nbformat_minor": 5
}
