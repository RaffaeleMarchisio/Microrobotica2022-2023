{
 "cells": [
  {
   "cell_type": "code",
   "execution_count": 8,
   "id": "cc25dda1",
   "metadata": {},
   "outputs": [
    {
     "name": "stdout",
     "output_type": "stream",
     "text": [
      "inserire una stringa:Domani non c'è scuola perche è sabato\n"
     ]
    }
   ],
   "source": [
    "str=input(\"inserire una stringa:\")"
   ]
  },
  {
   "cell_type": "code",
   "execution_count": 13,
   "id": "16e57f4b",
   "metadata": {},
   "outputs": [],
   "source": [
    "def elimina_vocali(str):\n",
    "    str2=[i for i in str if i!='A' and i!='a' and i!='è' and i!='E' and i!='e'and i!='I' and i!='i'and i!='O' and i!='o'and i!='U' and i!='u']\n",
    "    str_no_voc=\"\".join(str2)\n",
    "    print(f\"stringa senza vocali:{str_no_voc}\")"
   ]
  },
  {
   "cell_type": "code",
   "execution_count": 14,
   "id": "91fe31f4",
   "metadata": {},
   "outputs": [
    {
     "name": "stdout",
     "output_type": "stream",
     "text": [
      "stringa senza vocali:Dmn nn c' scl prch  sbt\n"
     ]
    }
   ],
   "source": [
    "elimina_vocali(str)"
   ]
  }
 ],
 "metadata": {
  "kernelspec": {
   "display_name": "Python 3 (ipykernel)",
   "language": "python",
   "name": "python3"
  },
  "language_info": {
   "codemirror_mode": {
    "name": "ipython",
    "version": 3
   },
   "file_extension": ".py",
   "mimetype": "text/x-python",
   "name": "python",
   "nbconvert_exporter": "python",
   "pygments_lexer": "ipython3",
   "version": "3.9.12"
  }
 },
 "nbformat": 4,
 "nbformat_minor": 5
}
