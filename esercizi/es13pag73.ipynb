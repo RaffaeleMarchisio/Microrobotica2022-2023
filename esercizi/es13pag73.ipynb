{
 "cells": [
  {
   "cell_type": "code",
   "execution_count": 16,
   "id": "be066607",
   "metadata": {},
   "outputs": [],
   "source": [
    "class Robot():\n",
    "    def __init__(self,nome,massa,umanoide):\n",
    "        self.nome=nome\n",
    "        self.massa=massa\n",
    "        self.umanoide=umanoide\n",
    "    def stampanome(self):\n",
    "        print(self.nome)\n",
    "    def pericoloso(self):\n",
    "        if(self.massa>100):\n",
    "            print(\"il robot e pericoloso\")\n",
    "        else:\n",
    "            print(\"il robot non e pericoloso\")"
   ]
  },
  {
   "cell_type": "code",
   "execution_count": 18,
   "id": "1a132f9f",
   "metadata": {
    "scrolled": true
   },
   "outputs": [
    {
     "name": "stdout",
     "output_type": "stream",
     "text": [
      "il robot e pericoloso\n",
      "Cyberone\n"
     ]
    }
   ],
   "source": [
    "rob=Robot(\"Cyberone\",101,True)\n",
    "rob.pericoloso()\n",
    "rob.stampanome()\n",
    "    "
   ]
  },
  {
   "cell_type": "code",
   "execution_count": null,
   "id": "21e19623",
   "metadata": {},
   "outputs": [],
   "source": []
  },
  {
   "cell_type": "code",
   "execution_count": null,
   "id": "9eb2d700",
   "metadata": {},
   "outputs": [],
   "source": []
  }
 ],
 "metadata": {
  "kernelspec": {
   "display_name": "Python 3 (ipykernel)",
   "language": "python",
   "name": "python3"
  },
  "language_info": {
   "codemirror_mode": {
    "name": "ipython",
    "version": 3
   },
   "file_extension": ".py",
   "mimetype": "text/x-python",
   "name": "python",
   "nbconvert_exporter": "python",
   "pygments_lexer": "ipython3",
   "version": "3.9.12"
  }
 },
 "nbformat": 4,
 "nbformat_minor": 5
}
