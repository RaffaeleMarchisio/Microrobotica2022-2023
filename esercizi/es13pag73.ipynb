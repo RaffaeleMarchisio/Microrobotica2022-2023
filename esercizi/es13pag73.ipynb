{
 "cells": [
  {
   "cell_type": "code",
   "execution_count": 4,
   "id": "be066607",
   "metadata": {},
   "outputs": [],
   "source": [
    "class Robot():\n",
    "    def __init__(self,nome,massa,umanoide):\n",
    "        self.nome=nome\n",
    "        self.massa=massa\n",
    "        self.umanoide=umanoide\n",
    "    def stampanome(self):\n",
    "        print(self.nome)\n",
    "    def pericoloso(self):\n",
    "        if(self.massa>100 and self.umanoide==True):\n",
    "            print(\"il robot e pericoloso\")\n",
    "        else:\n",
    "            print(\"il robot non e pericoloso\")"
   ]
  },
  {
   "cell_type": "code",
   "execution_count": 6,
   "id": "1a132f9f",
   "metadata": {
    "scrolled": true
   },
   "outputs": [
    {
     "name": "stdout",
     "output_type": "stream",
     "text": [
      "il robot e pericoloso\n",
      "Cyberone\n"
     ]
    },
    {
     "data": {
      "text/plain": [
       "<__main__.Robot at 0x7f79b2394790>"
      ]
     },
     "execution_count": 6,
     "metadata": {},
     "output_type": "execute_result"
    }
   ],
   "source": [
    "rob=Robot(\"Cyberone\",101,True)\n",
    "rob.pericoloso()\n",
    "rob.stampanome()"
   ]
  },
  {
   "cell_type": "code",
   "execution_count": 1,
   "id": "21e19623",
   "metadata": {},
   "outputs": [
    {
     "ename": "NameError",
     "evalue": "name 'rob' is not defined",
     "output_type": "error",
     "traceback": [
      "\u001b[0;31m---------------------------------------------------------------------------\u001b[0m",
      "\u001b[0;31mNameError\u001b[0m                                 Traceback (most recent call last)",
      "Input \u001b[0;32mIn [1]\u001b[0m, in \u001b[0;36m<cell line: 1>\u001b[0;34m()\u001b[0m\n\u001b[0;32m----> 1\u001b[0m \u001b[43mrob\u001b[49m\n",
      "\u001b[0;31mNameError\u001b[0m: name 'rob' is not defined"
     ]
    }
   ],
   "source": []
  },
  {
   "cell_type": "code",
   "execution_count": null,
   "id": "9eb2d700",
   "metadata": {},
   "outputs": [],
   "source": []
  }
 ],
 "metadata": {
  "kernelspec": {
   "display_name": "Python 3 (ipykernel)",
   "language": "python",
   "name": "python3"
  },
  "language_info": {
   "codemirror_mode": {
    "name": "ipython",
    "version": 3
   },
   "file_extension": ".py",
   "mimetype": "text/x-python",
   "name": "python",
   "nbconvert_exporter": "python",
   "pygments_lexer": "ipython3",
   "version": "3.9.12"
  }
 },
 "nbformat": 4,
 "nbformat_minor": 5
}
