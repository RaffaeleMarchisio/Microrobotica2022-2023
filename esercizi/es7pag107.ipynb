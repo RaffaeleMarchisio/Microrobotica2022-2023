{
 "cells": [
  {
   "cell_type": "code",
   "execution_count": 2,
   "id": "2d95cecb",
   "metadata": {},
   "outputs": [],
   "source": [
    "import numpy as np"
   ]
  },
  {
   "cell_type": "code",
   "execution_count": 3,
   "id": "aeeb7f3a",
   "metadata": {},
   "outputs": [
    {
     "data": {
      "text/plain": [
       "array([  1,   2,   3,   5,   7,  11,  13,  17,  19,  23,  29,  31,  37,\n",
       "        41,  43,  47,  53,  59,  61,  67,  71,  73,  79,  83,  89,  97,\n",
       "       101, 103, 107, 109, 113, 127, 131, 137, 139, 149, 151, 157, 163,\n",
       "       167, 173, 179, 181, 191, 193, 197, 199, 211, 223, 227, 229, 233,\n",
       "       239, 241, 251, 257, 263, 269, 271, 277, 281, 283, 293, 307, 311,\n",
       "       313, 317, 331, 337, 347, 349, 353, 359, 367, 373, 379, 383, 389,\n",
       "       397, 401, 409, 419, 421, 431, 433, 439, 443, 449, 457, 461, 463,\n",
       "       467, 479, 487, 491, 499, 503, 509, 521, 523, 541, 547, 557, 563,\n",
       "       569, 571, 577, 587, 593, 599, 601, 607, 613, 617, 619, 631, 641,\n",
       "       643, 647, 653, 659, 661, 673, 677, 683, 691, 701, 709, 719, 727,\n",
       "       733, 739, 743, 751, 757, 761, 769, 773, 787, 797, 809, 811, 821,\n",
       "       823, 827, 829, 839, 853, 857, 859, 863, 877, 881, 883, 887, 907,\n",
       "       911, 919, 929, 937, 941, 947, 953, 967, 971, 977, 983, 991, 997])"
      ]
     },
     "execution_count": 3,
     "metadata": {},
     "output_type": "execute_result"
    }
   ],
   "source": [
    "array_num_primi=np.array([x for x in range(1,1000) if all(x%y!=0 for y in range(2,x))])\n",
    "array_num_primi"
   ]
  },
  {
   "cell_type": "code",
   "execution_count": 6,
   "id": "35ee28a4",
   "metadata": {},
   "outputs": [
    {
     "data": {
      "text/plain": [
       "array([False, False, False,  True,  True, False,  True, False,  True,\n",
       "       False, False,  True, False, False,  True, False, False, False,\n",
       "        True, False, False,  True, False, False, False, False, False,\n",
       "        True, False,  True, False, False, False, False,  True, False,\n",
       "        True, False, False, False, False, False,  True, False,  True,\n",
       "       False,  True, False, False, False,  True, False, False,  True,\n",
       "       False, False, False, False,  True, False, False,  True, False,\n",
       "       False, False,  True, False, False, False, False,  True, False,\n",
       "       False, False, False, False, False, False, False, False, False,\n",
       "       False,  True, False,  True, False, False, False, False, False,\n",
       "        True, False, False, False, False, False, False, False, False,\n",
       "        True, False, False, False, False, False,  True, False, False,\n",
       "       False, False,  True, False, False, False,  True, False, False,\n",
       "        True, False, False, False,  True, False, False, False, False,\n",
       "       False, False, False, False, False, False, False, False, False,\n",
       "       False, False, False, False, False, False,  True, False,  True,\n",
       "       False,  True, False, False, False,  True, False, False, False,\n",
       "        True, False, False, False, False, False, False, False, False,\n",
       "       False, False, False, False, False, False, False])"
      ]
     },
     "execution_count": 6,
     "metadata": {},
     "output_type": "execute_result"
    }
   ],
   "source": [
    "array_gemelli=np.arange(0,1000)\n",
    "confronto=array_num_primi-np.roll(array_num_primi,1)==2\n",
    "confronto"
   ]
  },
  {
   "cell_type": "code",
   "execution_count": 7,
   "id": "227a6c1f",
   "metadata": {},
   "outputs": [
    {
     "data": {
      "text/plain": [
       "array([  5,   7,  13,  19,  31,  43,  61,  73, 103, 109, 139, 151, 181,\n",
       "       193, 199, 229, 241, 271, 283, 313, 349, 421, 433, 463, 523, 571,\n",
       "       601, 619, 643, 661, 811, 823, 829, 859, 883])"
      ]
     },
     "execution_count": 7,
     "metadata": {},
     "output_type": "execute_result"
    }
   ],
   "source": [
    "array_gemelli=array_num_primi[confronto]\n",
    "array_gemelli"
   ]
  },
  {
   "cell_type": "code",
   "execution_count": null,
   "id": "507f4ea6",
   "metadata": {},
   "outputs": [],
   "source": []
  }
 ],
 "metadata": {
  "kernelspec": {
   "display_name": "Python 3 (ipykernel)",
   "language": "python",
   "name": "python3"
  },
  "language_info": {
   "codemirror_mode": {
    "name": "ipython",
    "version": 3
   },
   "file_extension": ".py",
   "mimetype": "text/x-python",
   "name": "python",
   "nbconvert_exporter": "python",
   "pygments_lexer": "ipython3",
   "version": "3.9.13"
  }
 },
 "nbformat": 4,
 "nbformat_minor": 5
}
