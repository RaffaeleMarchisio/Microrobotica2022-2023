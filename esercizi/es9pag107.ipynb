{
 "cells": [
  {
   "cell_type": "code",
   "execution_count": 1,
   "id": "2d71695c",
   "metadata": {},
   "outputs": [],
   "source": [
    "import numpy as np"
   ]
  },
  {
   "cell_type": "code",
   "execution_count": 2,
   "id": "302ce021",
   "metadata": {},
   "outputs": [
    {
     "name": "stdout",
     "output_type": "stream",
     "text": [
      "[[0.5 0.5 1.  ... 1.  0.  0.5]\n",
      " [0.  0.  1.  ... 0.  0.5 0.5]\n",
      " [0.  0.5 1.  ... 1.  0.5 0. ]\n",
      " ...\n",
      " [0.5 0.5 0.  ... 0.  0.  0.5]\n",
      " [0.5 0.  0.  ... 0.5 1.  0. ]\n",
      " [0.5 0.  0.  ... 1.  0.  1. ]]\n",
      "[[0.5 1.  0.5 ... 0.5 1.  0.5]\n",
      " [0.  0.  0.  ... 1.  0.5 0.5]\n",
      " [0.5 0.  0.5 ... 0.  1.  0.5]\n",
      " ...\n",
      " [0.5 0.5 1.  ... 1.  0.  0.5]\n",
      " [0.  0.  0.5 ... 0.5 0.5 0.5]\n",
      " [0.  1.  0.  ... 0.  1.  1. ]]\n"
     ]
    }
   ],
   "source": [
    "partite_alice=np.random.choice((0,0.5,1),(10,1000))\n",
    "partite_bob=np.random.choice((0,0.5,1),(10,1000))\n",
    "print(partite_bob)\n",
    "print(partite_alice)"
   ]
  },
  {
   "cell_type": "code",
   "execution_count": 3,
   "id": "981cf705",
   "metadata": {},
   "outputs": [
    {
     "data": {
      "text/plain": [
       "[498.5, 498.0, 488.0, 527.0, 501.5, 470.0, 482.0, 492.5, 513.0, 523.0]"
      ]
     },
     "execution_count": 3,
     "metadata": {},
     "output_type": "execute_result"
    }
   ],
   "source": [
    "punti_bob=[]\n",
    "for elemento in partite_bob:\n",
    "    punti_bob.append(sum(elemento))\n",
    "punti_bob"
   ]
  },
  {
   "cell_type": "code",
   "execution_count": 4,
   "id": "e831aa36",
   "metadata": {},
   "outputs": [
    {
     "data": {
      "text/plain": [
       "[518.5, 521.5, 491.5, 500.0, 500.0, 478.0, 487.0, 511.5, 509.5, 490.5]"
      ]
     },
     "execution_count": 4,
     "metadata": {},
     "output_type": "execute_result"
    }
   ],
   "source": [
    "punti_alice=[]\n",
    "for elemento in partite_alice:\n",
    "    punti_alice.append(sum(elemento))\n",
    "punti_alice"
   ]
  },
  {
   "cell_type": "code",
   "execution_count": 5,
   "id": "30291b61",
   "metadata": {},
   "outputs": [
    {
     "data": {
      "text/plain": [
       "array([ True,  True,  True, False, False,  True,  True,  True, False,\n",
       "       False])"
      ]
     },
     "execution_count": 5,
     "metadata": {},
     "output_type": "execute_result"
    }
   ],
   "source": [
    "punti_bob=np.array(punti_bob)\n",
    "punti_alice=np.array(punti_alice)\n",
    "risultati=punti_alice>punti_bob\n",
    "risultati"
   ]
  },
  {
   "cell_type": "code",
   "execution_count": 6,
   "id": "abd15d51",
   "metadata": {},
   "outputs": [
    {
     "name": "stdout",
     "output_type": "stream",
     "text": [
      "alice ha vinto 6 volte in 10 partite, e ne ha perse 4\n",
      "bob ha vinto 4 volte in 10 partite, e ne ha perse 6\n"
     ]
    }
   ],
   "source": [
    "vincite_alice=np.count_nonzero(risultati)\n",
    "print(f\"alice ha vinto {vincite_alice} volte in 10 partite, e ne ha perse {len(risultati)-vincite_alice}\")\n",
    "print(f\"bob ha vinto {len(risultati)-vincite_alice} volte in 10 partite, e ne ha perse {vincite_alice}\")"
   ]
  },
  {
   "cell_type": "code",
   "execution_count": 9,
   "id": "1dc5c63c",
   "metadata": {},
   "outputs": [
    {
     "name": "stdout",
     "output_type": "stream",
     "text": [
      "482.0 518.0\n",
      "511.5 488.5\n",
      "523.0 477.0\n",
      "499.5 500.5\n",
      "516.0 484.0\n",
      "508.5 491.5\n",
      "497.0 503.0\n",
      "491.0 509.0\n",
      "504.5 495.5\n",
      "510.5 489.5\n"
     ]
    }
   ],
   "source": [
    "#Soluzione in classe\n",
    "for i in range(0,10):\n",
    "    g1=np.random.randint(1,7,1000)\n",
    "    g2=np.random.randint(1,7,1000)\n",
    "    \n",
    "    pari=np.count_nonzero(g1==g2)\n",
    "    a2=np.count_nonzero(g2>g1)+pari/2\n",
    "    a1=np.count_nonzero(g1>g2)+pari/2\n",
    "    print(a1,a2)\n",
    "    \n"
   ]
  },
  {
   "cell_type": "code",
   "execution_count": 12,
   "id": "8a97f43f",
   "metadata": {},
   "outputs": [
    {
     "name": "stdout",
     "output_type": "stream",
     "text": [
      "241.5 758.5\n",
      "225.0 775.0\n",
      "257.5 742.5\n",
      "246.0 754.0\n",
      "599.5 400.5\n",
      "565.0 435.0\n",
      "415.5 584.5\n",
      "254.0 746.0\n",
      "776.5 223.5\n",
      "90.0 910.0\n",
      "751.5 248.5\n",
      "261.0 739.0\n",
      "404.0 596.0\n",
      "918.0 82.0\n",
      "257.0 743.0\n",
      "247.5 752.5\n",
      "757.5 242.5\n",
      "269.5 730.5\n",
      "74.5 925.5\n",
      "751.5 248.5\n",
      "254.0 746.0\n",
      "265.5 734.5\n",
      "571.5 428.5\n",
      "911.0 89.0\n",
      "228.0 772.0\n",
      "261.5 738.5\n",
      "916.5 83.5\n",
      "87.0 913.0\n",
      "259.5 740.5\n",
      "279.0 721.0\n"
     ]
    }
   ],
   "source": [
    "#Soluzione in classe\n",
    "for i in range(0,30):\n",
    "    g1=np.random.randint(1,7,1000)\n",
    "    g2=np.random.choice([1,2,3,4,5,6],p=[1/8,1/8,1/8,1/8,1/4,1/4])\n",
    "    \n",
    "    pari=np.count_nonzero(g1==g2)\n",
    "    a2=np.count_nonzero(g2>g1)+pari/2\n",
    "    a1=np.count_nonzero(g1>g2)+pari/2\n",
    "    print(a1,a2)\n",
    "    "
   ]
  },
  {
   "cell_type": "code",
   "execution_count": null,
   "id": "b68e9399",
   "metadata": {},
   "outputs": [],
   "source": []
  }
 ],
 "metadata": {
  "kernelspec": {
   "display_name": "Python 3 (ipykernel)",
   "language": "python",
   "name": "python3"
  },
  "language_info": {
   "codemirror_mode": {
    "name": "ipython",
    "version": 3
   },
   "file_extension": ".py",
   "mimetype": "text/x-python",
   "name": "python",
   "nbconvert_exporter": "python",
   "pygments_lexer": "ipython3",
   "version": "3.9.13"
  }
 },
 "nbformat": 4,
 "nbformat_minor": 5
}
