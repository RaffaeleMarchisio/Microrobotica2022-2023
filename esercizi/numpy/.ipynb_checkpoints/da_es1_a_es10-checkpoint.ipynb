{
 "cells": [
  {
   "cell_type": "markdown",
   "id": "6aed53ae",
   "metadata": {},
   "source": [
    "# ES_1"
   ]
  },
  {
   "cell_type": "code",
   "execution_count": 1,
   "id": "21165d44",
   "metadata": {},
   "outputs": [],
   "source": [
    "import numpy as np"
   ]
  },
  {
   "cell_type": "code",
   "execution_count": 2,
   "id": "326fb64a",
   "metadata": {},
   "outputs": [],
   "source": [
    "def reverse_array(array_iniziale):\n",
    "    array_invertito=array_iniziale[::-1]\n",
    "    return array_invertito"
   ]
  },
  {
   "cell_type": "code",
   "execution_count": 3,
   "id": "d2f8c795",
   "metadata": {},
   "outputs": [
    {
     "name": "stdout",
     "output_type": "stream",
     "text": [
      "[1 2 3 4 5]\n",
      "[5 4 3 2 1]\n"
     ]
    }
   ],
   "source": [
    "array= np.array([1,2,3,4,5])\n",
    "reverse=reverse_array(array)\n",
    "print(array)\n",
    "print(reverse)"
   ]
  },
  {
   "cell_type": "markdown",
   "id": "ec7cc757",
   "metadata": {},
   "source": [
    "# ES_2/3"
   ]
  },
  {
   "cell_type": "code",
   "execution_count": 12,
   "id": "cf26f377",
   "metadata": {},
   "outputs": [
    {
     "data": {
      "text/plain": [
       "[1,\n",
       " 7,\n",
       " 11,\n",
       " 13,\n",
       " 17,\n",
       " 19,\n",
       " 23,\n",
       " 29,\n",
       " 31,\n",
       " 37,\n",
       " 41,\n",
       " 43,\n",
       " 47,\n",
       " 49,\n",
       " 53,\n",
       " 59,\n",
       " 61,\n",
       " 67,\n",
       " 71,\n",
       " 73,\n",
       " 77,\n",
       " 79,\n",
       " 83,\n",
       " 89,\n",
       " 91,\n",
       " 97]"
      ]
     },
     "execution_count": 12,
     "metadata": {},
     "output_type": "execute_result"
    }
   ],
   "source": [
    "\n",
    "lista_primi=[i for i in range(100) if i%1==0 and  i%2!=0 and i%3!=0 and i%4!=0 and i%5!=0]\n",
    "lista_primi"
   ]
  },
  {
   "cell_type": "code",
   "execution_count": null,
   "id": "bcdc19ca",
   "metadata": {},
   "outputs": [],
   "source": []
  },
  {
   "cell_type": "code",
   "execution_count": null,
   "id": "79db3795",
   "metadata": {},
   "outputs": [],
   "source": []
  },
  {
   "cell_type": "code",
   "execution_count": null,
   "id": "ec440ba6",
   "metadata": {},
   "outputs": [],
   "source": []
  }
 ],
 "metadata": {
  "kernelspec": {
   "display_name": "Python 3 (ipykernel)",
   "language": "python",
   "name": "python3"
  },
  "language_info": {
   "codemirror_mode": {
    "name": "ipython",
    "version": 3
   },
   "file_extension": ".py",
   "mimetype": "text/x-python",
   "name": "python",
   "nbconvert_exporter": "python",
   "pygments_lexer": "ipython3",
   "version": "3.9.12"
  }
 },
 "nbformat": 4,
 "nbformat_minor": 5
}
