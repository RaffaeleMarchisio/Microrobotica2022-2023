{
 "cells": [
  {
   "cell_type": "markdown",
   "id": "50453df5",
   "metadata": {},
   "source": [
    "\n",
    "# Esercizio 4\n",
    "1000 classi da 25 alunni ciscuna\n",
    "ogni possibile data di nascita è un numero da 1 a 365\n"
   ]
  },
  {
   "cell_type": "code",
   "execution_count": 1,
   "id": "24780a2e",
   "metadata": {},
   "outputs": [],
   "source": [
    "import numpy as np"
   ]
  },
  {
   "cell_type": "code",
   "execution_count": 34,
   "id": "0ffadd18",
   "metadata": {},
   "outputs": [
    {
     "data": {
      "text/plain": [
       "array([[ 18, 210, 343, ..., 162, 118, 305],\n",
       "       [313, 340, 154, ..., 147, 135, 182],\n",
       "       [327, 363, 200, ...,  58, 252, 301],\n",
       "       ...,\n",
       "       [263,   4, 233, ..., 257,  46, 354],\n",
       "       [ 28,  42,  22, ...,  55,  74, 321],\n",
       "       [243, 346, 218, ..., 303, 225,  39]])"
      ]
     },
     "execution_count": 34,
     "metadata": {},
     "output_type": "execute_result"
    }
   ],
   "source": [
    "n_alunni=30\n",
    "classe=np.random.randint(1,365,(1000,n_alunni))\n",
    "classe"
   ]
  },
  {
   "cell_type": "code",
   "execution_count": 35,
   "id": "6eae3830",
   "metadata": {},
   "outputs": [
    {
     "data": {
      "text/plain": [
       "array([[  1, 149, 280, ..., 225, 141, 288],\n",
       "       [  1, 336, 200, ..., 338, 141, 261],\n",
       "       [  1, 358, 119, ..., 143,  48, 340],\n",
       "       ...,\n",
       "       [363,  24, 343, ...,  97, 329, 212],\n",
       "       [363, 105, 111, ..., 210, 326,  76],\n",
       "       [364,  55, 221, ..., 190, 302,  99]])"
      ]
     },
     "execution_count": 35,
     "metadata": {},
     "output_type": "execute_result"
    }
   ],
   "source": [
    "np.unique(classe,axis=0)"
   ]
  },
  {
   "cell_type": "code",
   "execution_count": 36,
   "id": "ab00a9b0",
   "metadata": {},
   "outputs": [
    {
     "data": {
      "text/plain": [
       "720"
      ]
     },
     "execution_count": 36,
     "metadata": {},
     "output_type": "execute_result"
    }
   ],
   "source": [
    "classi_con_almeno_doppione=0\n",
    "for c in classe:\n",
    "    if np.unique(c).shape[0]<n_alunni:\n",
    "        classi_con_almeno_doppione=classi_con_almeno_doppione+1\n",
    "classi_con_almeno_doppione"
   ]
  },
  {
   "cell_type": "markdown",
   "id": "bd10e98a",
   "metadata": {},
   "source": [
    "# Esercizio 3"
   ]
  },
  {
   "cell_type": "code",
   "execution_count": 73,
   "id": "2890b2f7",
   "metadata": {},
   "outputs": [
    {
     "name": "stdout",
     "output_type": "stream",
     "text": [
      "[[0 0 0 ... 1 0 0]\n",
      " [0 1 0 ... 1 0 1]\n",
      " [0 1 0 ... 1 0 1]\n",
      " ...\n",
      " [0 0 1 ... 1 1 1]\n",
      " [1 0 1 ... 1 0 1]\n",
      " [0 0 0 ... 0 0 0]]\n"
     ]
    }
   ],
   "source": [
    "n_lanci=1000\n",
    "partite=np.random.choice((0,1),(10000,n_lanci))\n",
    "print(partite)"
   ]
  },
  {
   "cell_type": "code",
   "execution_count": 74,
   "id": "9ae82481",
   "metadata": {},
   "outputs": [
    {
     "data": {
      "text/plain": [
       "5000998"
      ]
     },
     "execution_count": 74,
     "metadata": {},
     "output_type": "execute_result"
    }
   ],
   "source": [
    "cont=0\n",
    "for p in partite:\n",
    "    if np.count_nonzero(p)<450:\n",
    "        lanci_croce+=1\n",
    "        \n",
    "lanci_croce\n",
    "        "
   ]
  },
  {
   "cell_type": "code",
   "execution_count": null,
   "id": "aaead77b",
   "metadata": {},
   "outputs": [],
   "source": []
  },
  {
   "cell_type": "code",
   "execution_count": null,
   "id": "2e8d6fbe",
   "metadata": {},
   "outputs": [],
   "source": []
  }
 ],
 "metadata": {
  "kernelspec": {
   "display_name": "Python 3 (ipykernel)",
   "language": "python",
   "name": "python3"
  },
  "language_info": {
   "codemirror_mode": {
    "name": "ipython",
    "version": 3
   },
   "file_extension": ".py",
   "mimetype": "text/x-python",
   "name": "python",
   "nbconvert_exporter": "python",
   "pygments_lexer": "ipython3",
   "version": "3.9.13"
  }
 },
 "nbformat": 4,
 "nbformat_minor": 5
}
