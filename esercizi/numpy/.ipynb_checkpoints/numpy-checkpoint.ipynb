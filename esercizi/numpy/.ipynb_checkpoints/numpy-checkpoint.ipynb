{
 "cells": [
  {
   "cell_type": "code",
   "execution_count": 1,
   "id": "c75c4bdd",
   "metadata": {},
   "outputs": [],
   "source": [
    "import numpy as np"
   ]
  },
  {
   "cell_type": "code",
   "execution_count": 2,
   "id": "f24d5aba",
   "metadata": {},
   "outputs": [],
   "source": [
    "lista=[1,2,3,4]"
   ]
  },
  {
   "cell_type": "code",
   "execution_count": 3,
   "id": "67784f29",
   "metadata": {},
   "outputs": [
    {
     "data": {
      "text/plain": [
       "list"
      ]
     },
     "execution_count": 3,
     "metadata": {},
     "output_type": "execute_result"
    }
   ],
   "source": [
    "type(lista)"
   ]
  },
  {
   "cell_type": "code",
   "execution_count": 4,
   "id": "fa9622c0",
   "metadata": {},
   "outputs": [
    {
     "data": {
      "text/plain": [
       "array([1, 2, 3, 4])"
      ]
     },
     "execution_count": 4,
     "metadata": {},
     "output_type": "execute_result"
    }
   ],
   "source": [
    "array=np.array(lista)\n",
    "array"
   ]
  },
  {
   "cell_type": "code",
   "execution_count": 5,
   "id": "f0ef6d81",
   "metadata": {},
   "outputs": [
    {
     "data": {
      "text/plain": [
       "numpy.ndarray"
      ]
     },
     "execution_count": 5,
     "metadata": {},
     "output_type": "execute_result"
    }
   ],
   "source": [
    "type(array)"
   ]
  },
  {
   "cell_type": "code",
   "execution_count": 6,
   "id": "04ff0996",
   "metadata": {},
   "outputs": [
    {
     "data": {
      "text/plain": [
       "array([ 3,  6,  9, 12])"
      ]
     },
     "execution_count": 6,
     "metadata": {},
     "output_type": "execute_result"
    }
   ],
   "source": [
    "3*array"
   ]
  },
  {
   "cell_type": "code",
   "execution_count": 7,
   "id": "0f94d6de",
   "metadata": {},
   "outputs": [
    {
     "data": {
      "text/plain": [
       "[1, 2, 3, 4, 1, 2, 3, 4, 1, 2, 3, 4]"
      ]
     },
     "execution_count": 7,
     "metadata": {},
     "output_type": "execute_result"
    }
   ],
   "source": [
    "3*lista"
   ]
  },
  {
   "cell_type": "code",
   "execution_count": 8,
   "id": "e6167dce",
   "metadata": {},
   "outputs": [
    {
     "data": {
      "text/plain": [
       "array([11, 12, 13, 14])"
      ]
     },
     "execution_count": 8,
     "metadata": {},
     "output_type": "execute_result"
    }
   ],
   "source": [
    "10+array"
   ]
  },
  {
   "cell_type": "code",
   "execution_count": 9,
   "id": "7841df52",
   "metadata": {},
   "outputs": [
    {
     "data": {
      "text/plain": [
       "array([1, 2, 3, 4])"
      ]
     },
     "execution_count": 9,
     "metadata": {},
     "output_type": "execute_result"
    }
   ],
   "source": [
    "array"
   ]
  },
  {
   "cell_type": "code",
   "execution_count": 10,
   "id": "cb5a9823",
   "metadata": {},
   "outputs": [
    {
     "data": {
      "text/plain": [
       "array([1, 2, 3, 4])"
      ]
     },
     "execution_count": 10,
     "metadata": {},
     "output_type": "execute_result"
    }
   ],
   "source": [
    "a=array.copy()\n",
    "a"
   ]
  },
  {
   "cell_type": "code",
   "execution_count": 11,
   "id": "ef339bae",
   "metadata": {},
   "outputs": [
    {
     "data": {
      "text/plain": [
       "array([4, 3, 2, 1])"
      ]
     },
     "execution_count": 11,
     "metadata": {},
     "output_type": "execute_result"
    }
   ],
   "source": [
    "b=np.array(lista[::-1])\n",
    "b"
   ]
  },
  {
   "cell_type": "code",
   "execution_count": 12,
   "id": "a4fc5c31",
   "metadata": {},
   "outputs": [
    {
     "data": {
      "text/plain": [
       "array([5, 5, 5, 5])"
      ]
     },
     "execution_count": 12,
     "metadata": {},
     "output_type": "execute_result"
    }
   ],
   "source": [
    "a+b"
   ]
  },
  {
   "cell_type": "code",
   "execution_count": 13,
   "id": "7b34d899",
   "metadata": {},
   "outputs": [
    {
     "data": {
      "text/plain": [
       "array([0, 0, 0, 0, 0, 0, 0, 0, 0, 0], dtype=int8)"
      ]
     },
     "execution_count": 13,
     "metadata": {},
     "output_type": "execute_result"
    }
   ],
   "source": [
    "zeri=np.zeros(10,dtype=np.int8)\n",
    "zeri"
   ]
  },
  {
   "cell_type": "code",
   "execution_count": 14,
   "id": "6d338457",
   "metadata": {},
   "outputs": [
    {
     "data": {
      "text/plain": [
       "array([1, 1, 1, 1, 1, 1, 1, 1, 1, 1], dtype=int8)"
      ]
     },
     "execution_count": 14,
     "metadata": {},
     "output_type": "execute_result"
    }
   ],
   "source": [
    "uni=np.ones(10,dtype=np.int8)\n",
    "uni"
   ]
  },
  {
   "cell_type": "code",
   "execution_count": 15,
   "id": "bb6b730e",
   "metadata": {},
   "outputs": [
    {
     "data": {
      "text/plain": [
       "array([0.66995116, 0.5746823 , 0.92158209, 0.11427477, 0.43681976,\n",
       "       0.23295465, 0.46023533, 0.27745486, 0.56846715, 0.14588863])"
      ]
     },
     "execution_count": 15,
     "metadata": {},
     "output_type": "execute_result"
    }
   ],
   "source": [
    "np.random.uniform(size=10)"
   ]
  },
  {
   "cell_type": "code",
   "execution_count": 16,
   "id": "c6c7d960",
   "metadata": {},
   "outputs": [
    {
     "data": {
      "text/plain": [
       "array([5, 4, 6, 1, 4, 5, 2, 2, 1, 5])"
      ]
     },
     "execution_count": 16,
     "metadata": {},
     "output_type": "execute_result"
    }
   ],
   "source": [
    "alice=np.random.randint(1,7,10)\n",
    "alice"
   ]
  },
  {
   "cell_type": "code",
   "execution_count": 17,
   "id": "946383d9",
   "metadata": {},
   "outputs": [
    {
     "data": {
      "text/plain": [
       "array([1, 1, 3, 3, 3, 3, 6, 3, 6, 2])"
      ]
     },
     "execution_count": 17,
     "metadata": {},
     "output_type": "execute_result"
    }
   ],
   "source": [
    "bob=np.random.randint(1,7,10)\n",
    "bob"
   ]
  },
  {
   "cell_type": "code",
   "execution_count": 18,
   "id": "036bead2",
   "metadata": {},
   "outputs": [
    {
     "name": "stdout",
     "output_type": "stream",
     "text": [
      "[ True  True  True False  True  True False False False  True]\n"
     ]
    },
    {
     "data": {
      "text/plain": [
       "dtype('bool')"
      ]
     },
     "execution_count": 18,
     "metadata": {},
     "output_type": "execute_result"
    }
   ],
   "source": [
    "alicevince=alice>bob\n",
    "print(alicevince)\n",
    "alicevince.dtype"
   ]
  },
  {
   "cell_type": "code",
   "execution_count": 19,
   "id": "ad9e8184",
   "metadata": {},
   "outputs": [
    {
     "data": {
      "text/plain": [
       "dtype('int64')"
      ]
     },
     "execution_count": 19,
     "metadata": {},
     "output_type": "execute_result"
    }
   ],
   "source": [
    "alice.dtype"
   ]
  },
  {
   "cell_type": "markdown",
   "id": "46b8f444",
   "metadata": {},
   "source": [
    "## indicizzazione booleana"
   ]
  },
  {
   "cell_type": "code",
   "execution_count": 20,
   "id": "3c366bce",
   "metadata": {},
   "outputs": [
    {
     "data": {
      "text/plain": [
       "array([5, 4, 6, 4, 5, 5])"
      ]
     },
     "execution_count": 20,
     "metadata": {},
     "output_type": "execute_result"
    }
   ],
   "source": [
    "alice[alicevince]"
   ]
  },
  {
   "cell_type": "code",
   "execution_count": 21,
   "id": "b4a282a1",
   "metadata": {
    "scrolled": true
   },
   "outputs": [
    {
     "data": {
      "text/plain": [
       "array([1, 1, 3, 3, 3, 2])"
      ]
     },
     "execution_count": 21,
     "metadata": {},
     "output_type": "execute_result"
    }
   ],
   "source": [
    "bob[alicevince]"
   ]
  },
  {
   "cell_type": "markdown",
   "id": "94a2dd96",
   "metadata": {},
   "source": [
    "## intervalli di numeri interi"
   ]
  },
  {
   "cell_type": "code",
   "execution_count": 22,
   "id": "5af9b5c3",
   "metadata": {},
   "outputs": [
    {
     "data": {
      "text/plain": [
       "array([ 3,  6,  9, 12, 15, 18, 21])"
      ]
     },
     "execution_count": 22,
     "metadata": {},
     "output_type": "execute_result"
    }
   ],
   "source": [
    "np.arange(3,22,3)"
   ]
  },
  {
   "cell_type": "markdown",
   "id": "18afa714",
   "metadata": {},
   "source": [
    "## Intervalli di numeri reali"
   ]
  },
  {
   "cell_type": "code",
   "execution_count": 23,
   "id": "ce71d91f",
   "metadata": {},
   "outputs": [
    {
     "data": {
      "text/plain": [
       "array([0. , 0.5, 1. , 1.5, 2. , 2.5, 3. , 3.5, 4. , 4.5, 5. ])"
      ]
     },
     "execution_count": 23,
     "metadata": {},
     "output_type": "execute_result"
    }
   ],
   "source": [
    "np.linspace(0.0,5.0,11)"
   ]
  },
  {
   "cell_type": "markdown",
   "id": "a7fa60a4",
   "metadata": {},
   "source": [
    "## Numeri casuali"
   ]
  },
  {
   "cell_type": "code",
   "execution_count": 24,
   "id": "e0185a2d",
   "metadata": {},
   "outputs": [
    {
     "data": {
      "text/plain": [
       "array([9.63253116, 3.08615453, 6.13142809, 8.2238247 , 8.3461267 ])"
      ]
     },
     "execution_count": 24,
     "metadata": {},
     "output_type": "execute_result"
    }
   ],
   "source": [
    "np.random.uniform(0.,10.,5)"
   ]
  },
  {
   "cell_type": "code",
   "execution_count": 25,
   "id": "6c7b239b",
   "metadata": {},
   "outputs": [
    {
     "data": {
      "text/plain": [
       "array([3, 3, 1, 5, 5])"
      ]
     },
     "execution_count": 25,
     "metadata": {},
     "output_type": "execute_result"
    }
   ],
   "source": [
    "np.random.randint(1,7,5)"
   ]
  },
  {
   "cell_type": "code",
   "execution_count": 26,
   "id": "05f59524",
   "metadata": {},
   "outputs": [
    {
     "name": "stdout",
     "output_type": "stream",
     "text": [
      "['Croce' 'Croce' 'Croce' ... 'Croce' 'Testa' 'Testa']\n"
     ]
    }
   ],
   "source": [
    "print(np.random.choice([\"Testa\",\"Croce\"],10000000))"
   ]
  },
  {
   "cell_type": "markdown",
   "id": "dbc1cfe9",
   "metadata": {},
   "source": [
    "E={T,C} \n",
    "\n",
    "Pe=Ne/Nt, numero di volte che e capitato diviso il nuemro di volte dell'evento(definizione frequentista)\n",
    "\n",
    "Nt=100, Ne=51, Pe=51/100=0,51"
   ]
  },
  {
   "cell_type": "code",
   "execution_count": 27,
   "id": "ba0933cf",
   "metadata": {},
   "outputs": [
    {
     "data": {
      "text/plain": [
       "array(['Testa', 'Testa', 'Testa', 'croce', 'croce', 'Testa', 'Testa',\n",
       "       'Testa', 'Testa', 'croce'], dtype='<U5')"
      ]
     },
     "execution_count": 27,
     "metadata": {},
     "output_type": "execute_result"
    }
   ],
   "source": [
    "np.random.choice([\"Testa\",\"croce\"],10,p=[0.7,0.3])"
   ]
  },
  {
   "cell_type": "code",
   "execution_count": 28,
   "id": "ee8c9dca",
   "metadata": {
    "scrolled": true
   },
   "outputs": [
    {
     "data": {
      "text/plain": [
       "array([2, 2, 2, 2, 2, 2, 2, 2, 2, 2])"
      ]
     },
     "execution_count": 28,
     "metadata": {},
     "output_type": "execute_result"
    }
   ],
   "source": [
    "np.random.choice([2],10)"
   ]
  },
  {
   "cell_type": "markdown",
   "id": "97d43ebd",
   "metadata": {},
   "source": [
    "## CURVA GAUSSIANA"
   ]
  },
  {
   "cell_type": "code",
   "execution_count": 29,
   "id": "d3702041",
   "metadata": {
    "scrolled": true
   },
   "outputs": [
    {
     "data": {
      "text/plain": [
       "array([[177.91707873, 188.47638993, 168.48777956, 179.96163441,\n",
       "        183.34820467, 182.03427974, 181.34036312],\n",
       "       [175.61861875, 180.97112325, 185.40738383, 181.84297292,\n",
       "        184.28482099, 180.42643308, 172.01987828],\n",
       "       [169.68748097, 180.20038633, 190.81126317, 191.23081914,\n",
       "        177.47377425, 179.2532287 , 177.3542562 ],\n",
       "       [186.49668869, 182.06881892, 166.31960534, 169.25918904,\n",
       "        161.36950975, 168.01355584, 174.31863289],\n",
       "       [169.77991999, 160.23741577, 178.30893169, 182.2589975 ,\n",
       "        169.89604379, 183.64731259, 176.28082083]])"
      ]
     },
     "execution_count": 29,
     "metadata": {},
     "output_type": "execute_result"
    }
   ],
   "source": [
    "altezze=np.random.normal(178,10,(5,7))\n",
    "altezze"
   ]
  },
  {
   "cell_type": "code",
   "execution_count": 30,
   "id": "a1bed241",
   "metadata": {},
   "outputs": [
    {
     "data": {
      "text/plain": [
       "191.23081914147014"
      ]
     },
     "execution_count": 30,
     "metadata": {},
     "output_type": "execute_result"
    }
   ],
   "source": [
    "np.max(altezze)"
   ]
  },
  {
   "cell_type": "code",
   "execution_count": 31,
   "id": "e4a34f87",
   "metadata": {},
   "outputs": [
    {
     "data": {
      "text/plain": [
       "160.23741576853777"
      ]
     },
     "execution_count": 31,
     "metadata": {},
     "output_type": "execute_result"
    }
   ],
   "source": [
    "np.min(altezze)"
   ]
  },
  {
   "cell_type": "code",
   "execution_count": 32,
   "id": "6a56c2a3",
   "metadata": {},
   "outputs": [
    {
     "data": {
      "text/plain": [
       "array([[1, 2, 3],\n",
       "       [4, 5, 6]])"
      ]
     },
     "execution_count": 32,
     "metadata": {},
     "output_type": "execute_result"
    }
   ],
   "source": [
    "array_2d=np.array([[1,2,3],[4,5,6]])\n",
    "array_2d"
   ]
  },
  {
   "cell_type": "code",
   "execution_count": 33,
   "id": "b38b088d",
   "metadata": {},
   "outputs": [
    {
     "data": {
      "text/plain": [
       "(2, 3)"
      ]
     },
     "execution_count": 33,
     "metadata": {},
     "output_type": "execute_result"
    }
   ],
   "source": [
    "array_2d.shape"
   ]
  },
  {
   "cell_type": "code",
   "execution_count": 34,
   "id": "eb278c4f",
   "metadata": {},
   "outputs": [
    {
     "data": {
      "text/plain": [
       "array([[0.48049948, 0.04566572],\n",
       "       [0.75034876, 0.15126648],\n",
       "       [0.11760091, 0.55957079],\n",
       "       [0.51176177, 0.07460483],\n",
       "       [0.38366882, 0.909833  ],\n",
       "       [0.36342277, 0.82275943],\n",
       "       [0.75096891, 0.72975486],\n",
       "       [0.41132254, 0.3580415 ]])"
      ]
     },
     "execution_count": 34,
     "metadata": {},
     "output_type": "execute_result"
    }
   ],
   "source": [
    "array_2d_casuale=np.random.uniform(0,1,(8,2))\n",
    "array_2d_casuale"
   ]
  },
  {
   "cell_type": "markdown",
   "id": "7d450d02",
   "metadata": {},
   "source": [
    "### elemento"
   ]
  },
  {
   "cell_type": "code",
   "execution_count": 35,
   "id": "670a24d4",
   "metadata": {},
   "outputs": [
    {
     "data": {
      "text/plain": [
       "0.0746048317752166"
      ]
     },
     "execution_count": 35,
     "metadata": {},
     "output_type": "execute_result"
    }
   ],
   "source": [
    "array_2d_casuale[3,1]"
   ]
  },
  {
   "cell_type": "markdown",
   "id": "6e877451",
   "metadata": {},
   "source": [
    "### colonna"
   ]
  },
  {
   "cell_type": "code",
   "execution_count": 36,
   "id": "706f3c10",
   "metadata": {},
   "outputs": [
    {
     "data": {
      "text/plain": [
       "array([0.48049948, 0.75034876, 0.11760091, 0.51176177, 0.38366882,\n",
       "       0.36342277, 0.75096891, 0.41132254])"
      ]
     },
     "execution_count": 36,
     "metadata": {},
     "output_type": "execute_result"
    }
   ],
   "source": [
    "array_2d_casuale[:,0]"
   ]
  },
  {
   "cell_type": "markdown",
   "id": "4ae3a96b",
   "metadata": {},
   "source": [
    "### Riga"
   ]
  },
  {
   "cell_type": "code",
   "execution_count": 37,
   "id": "177ad74c",
   "metadata": {},
   "outputs": [
    {
     "data": {
      "text/plain": [
       "array([0.51176177, 0.07460483])"
      ]
     },
     "execution_count": 37,
     "metadata": {},
     "output_type": "execute_result"
    }
   ],
   "source": [
    "array_2d_casuale[3,:]"
   ]
  },
  {
   "cell_type": "markdown",
   "id": "3916dcef",
   "metadata": {},
   "source": [
    "### Blocco"
   ]
  },
  {
   "cell_type": "code",
   "execution_count": 38,
   "id": "8ab81869",
   "metadata": {},
   "outputs": [
    {
     "data": {
      "text/plain": [
       "array([[0.11760091, 0.55957079],\n",
       "       [0.51176177, 0.07460483],\n",
       "       [0.38366882, 0.909833  ]])"
      ]
     },
     "execution_count": 38,
     "metadata": {},
     "output_type": "execute_result"
    }
   ],
   "source": [
    "array_2d_casuale[2:5,:]"
   ]
  },
  {
   "cell_type": "markdown",
   "id": "e53260a3",
   "metadata": {},
   "source": [
    "### Assegnazione"
   ]
  },
  {
   "cell_type": "code",
   "execution_count": 39,
   "id": "e3e52447",
   "metadata": {},
   "outputs": [
    {
     "data": {
      "text/plain": [
       "array([[0.48049948, 0.04566572],\n",
       "       [0.75034876, 0.15126648],\n",
       "       [1.        , 1.        ],\n",
       "       [1.        , 1.        ],\n",
       "       [1.        , 1.        ],\n",
       "       [0.36342277, 0.82275943],\n",
       "       [0.75096891, 0.72975486],\n",
       "       [0.41132254, 0.3580415 ]])"
      ]
     },
     "execution_count": 39,
     "metadata": {},
     "output_type": "execute_result"
    }
   ],
   "source": [
    "array_2d_casuale[2:5,:]=1.\n",
    "array_2d_casuale"
   ]
  },
  {
   "cell_type": "markdown",
   "id": "aa68af54",
   "metadata": {},
   "source": [
    "# ESERCIZIO\n",
    "\n",
    "## Soluzione numpy"
   ]
  },
  {
   "cell_type": "code",
   "execution_count": 40,
   "id": "95878189",
   "metadata": {},
   "outputs": [],
   "source": [
    "n = 1000000"
   ]
  },
  {
   "cell_type": "code",
   "execution_count": 41,
   "id": "9f4f0452",
   "metadata": {},
   "outputs": [
    {
     "name": "stdout",
     "output_type": "stream",
     "text": [
      "479 µs ± 19.6 µs per loop (mean ± std. dev. of 7 runs, 1,000 loops each)\n"
     ]
    }
   ],
   "source": [
    "%%timeit\n",
    "array=np.zeros(n,dtype=np.int8)\n",
    "array[::2]=1."
   ]
  },
  {
   "cell_type": "markdown",
   "id": "2e1e131b",
   "metadata": {},
   "source": [
    "## Soluzione python"
   ]
  },
  {
   "cell_type": "code",
   "execution_count": 42,
   "id": "e9a950b3",
   "metadata": {},
   "outputs": [
    {
     "name": "stdout",
     "output_type": "stream",
     "text": [
      "76.9 ms ± 2.2 ms per loop (mean ± std. dev. of 7 runs, 10 loops each)\n"
     ]
    }
   ],
   "source": [
    "%%timeit\n",
    "l=[i%2 for i in range(n)]\n",
    "l"
   ]
  },
  {
   "cell_type": "code",
   "execution_count": 46,
   "id": "ab855586",
   "metadata": {},
   "outputs": [
    {
     "data": {
      "text/plain": [
       "array([ 1,  2,  3,  4,  5,  6,  7,  8,  9, 10, 11, 12, 13, 14, 15, 16, 17,\n",
       "       18, 19])"
      ]
     },
     "execution_count": 46,
     "metadata": {},
     "output_type": "execute_result"
    }
   ],
   "source": [
    "array_1d=np.arange(1,20)\n",
    "array_1d"
   ]
  },
  {
   "cell_type": "code",
   "execution_count": 47,
   "id": "c070b18f",
   "metadata": {},
   "outputs": [
    {
     "data": {
      "text/plain": [
       "array([-1,  2,  3,  4,  5, -1,  7,  8,  9, 10, -1, 12, 13, 14, 15, -1, 17,\n",
       "       18, 19])"
      ]
     },
     "execution_count": 47,
     "metadata": {},
     "output_type": "execute_result"
    }
   ],
   "source": [
    "array_1d[::5]=-1\n",
    "array_1d"
   ]
  },
  {
   "cell_type": "code",
   "execution_count": 48,
   "id": "026afb84",
   "metadata": {},
   "outputs": [
    {
     "data": {
      "text/plain": [
       "array([0, 1, 2, 3, 4])"
      ]
     },
     "execution_count": 48,
     "metadata": {},
     "output_type": "execute_result"
    }
   ],
   "source": [
    "array_1d=np.arange(0,5)\n",
    "array_1d"
   ]
  },
  {
   "cell_type": "code",
   "execution_count": 51,
   "id": "304d512b",
   "metadata": {},
   "outputs": [],
   "source": [
    "resto_fa_zero=array_1d%2==0"
   ]
  },
  {
   "cell_type": "code",
   "execution_count": 52,
   "id": "ffa020f7",
   "metadata": {},
   "outputs": [
    {
     "data": {
      "text/plain": [
       "array([0, 2, 4])"
      ]
     },
     "execution_count": 52,
     "metadata": {},
     "output_type": "execute_result"
    }
   ],
   "source": [
    "array_1d[resto_fa_zero]"
   ]
  },
  {
   "cell_type": "code",
   "execution_count": 54,
   "id": "dcf122aa",
   "metadata": {},
   "outputs": [
    {
     "data": {
      "text/plain": [
       "array([999,   1, 999,   3, 999])"
      ]
     },
     "execution_count": 54,
     "metadata": {},
     "output_type": "execute_result"
    }
   ],
   "source": [
    "array_1d[resto_fa_zero]=999\n",
    "array_1d"
   ]
  },
  {
   "cell_type": "code",
   "execution_count": 55,
   "id": "4b718334",
   "metadata": {},
   "outputs": [
    {
     "data": {
      "text/plain": [
       "array([0.49078163, 0.92420709, 0.2157126 , 0.0215652 , 0.67132945,\n",
       "       0.62662825, 0.30725523, 0.47120894, 0.26572644, 0.10430506])"
      ]
     },
     "execution_count": 55,
     "metadata": {},
     "output_type": "execute_result"
    }
   ],
   "source": [
    "array_1d=np.random.uniform(0.,1.,10)\n",
    "array_1d"
   ]
  },
  {
   "cell_type": "code",
   "execution_count": 57,
   "id": "367a9304",
   "metadata": {},
   "outputs": [],
   "source": [
    "array_1d[np.array([1,2,9])]=999 #indicizzazione con array di indici"
   ]
  },
  {
   "cell_type": "code",
   "execution_count": 58,
   "id": "b0e532e7",
   "metadata": {},
   "outputs": [
    {
     "data": {
      "text/plain": [
       "array([4.90781628e-01, 9.99000000e+02, 9.99000000e+02, 2.15651975e-02,\n",
       "       6.71329447e-01, 6.26628249e-01, 3.07255229e-01, 4.71208937e-01,\n",
       "       2.65726442e-01, 9.99000000e+02])"
      ]
     },
     "execution_count": 58,
     "metadata": {},
     "output_type": "execute_result"
    }
   ],
   "source": [
    "array_1d"
   ]
  },
  {
   "cell_type": "code",
   "execution_count": null,
   "id": "1c7cc60c",
   "metadata": {},
   "outputs": [],
   "source": []
  }
 ],
 "metadata": {
  "kernelspec": {
   "display_name": "Python 3 (ipykernel)",
   "language": "python",
   "name": "python3"
  },
  "language_info": {
   "codemirror_mode": {
    "name": "ipython",
    "version": 3
   },
   "file_extension": ".py",
   "mimetype": "text/x-python",
   "name": "python",
   "nbconvert_exporter": "python",
   "pygments_lexer": "ipython3",
   "version": "3.9.12"
  }
 },
 "nbformat": 4,
 "nbformat_minor": 5
}
