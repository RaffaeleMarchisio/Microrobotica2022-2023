{
 "cells": [
  {
   "cell_type": "code",
   "execution_count": 1,
   "id": "c75c4bdd",
   "metadata": {},
   "outputs": [],
   "source": [
    "import numpy as np"
   ]
  },
  {
   "cell_type": "code",
   "execution_count": 2,
   "id": "f24d5aba",
   "metadata": {},
   "outputs": [],
   "source": [
    "lista=[1,2,3,4]"
   ]
  },
  {
   "cell_type": "code",
   "execution_count": 3,
   "id": "67784f29",
   "metadata": {},
   "outputs": [
    {
     "data": {
      "text/plain": [
       "list"
      ]
     },
     "execution_count": 3,
     "metadata": {},
     "output_type": "execute_result"
    }
   ],
   "source": [
    "type(lista)"
   ]
  },
  {
   "cell_type": "code",
   "execution_count": 4,
   "id": "fa9622c0",
   "metadata": {},
   "outputs": [
    {
     "data": {
      "text/plain": [
       "array([1, 2, 3, 4])"
      ]
     },
     "execution_count": 4,
     "metadata": {},
     "output_type": "execute_result"
    }
   ],
   "source": [
    "array=np.array(lista)\n",
    "array"
   ]
  },
  {
   "cell_type": "code",
   "execution_count": 5,
   "id": "f0ef6d81",
   "metadata": {},
   "outputs": [
    {
     "data": {
      "text/plain": [
       "numpy.ndarray"
      ]
     },
     "execution_count": 5,
     "metadata": {},
     "output_type": "execute_result"
    }
   ],
   "source": [
    "type(array)"
   ]
  },
  {
   "cell_type": "code",
   "execution_count": 6,
   "id": "04ff0996",
   "metadata": {},
   "outputs": [
    {
     "data": {
      "text/plain": [
       "array([ 3,  6,  9, 12])"
      ]
     },
     "execution_count": 6,
     "metadata": {},
     "output_type": "execute_result"
    }
   ],
   "source": [
    "3*array"
   ]
  },
  {
   "cell_type": "code",
   "execution_count": 7,
   "id": "0f94d6de",
   "metadata": {},
   "outputs": [
    {
     "data": {
      "text/plain": [
       "[1, 2, 3, 4, 1, 2, 3, 4, 1, 2, 3, 4]"
      ]
     },
     "execution_count": 7,
     "metadata": {},
     "output_type": "execute_result"
    }
   ],
   "source": [
    "3*lista"
   ]
  },
  {
   "cell_type": "code",
   "execution_count": 8,
   "id": "e6167dce",
   "metadata": {},
   "outputs": [
    {
     "data": {
      "text/plain": [
       "array([11, 12, 13, 14])"
      ]
     },
     "execution_count": 8,
     "metadata": {},
     "output_type": "execute_result"
    }
   ],
   "source": [
    "10+array"
   ]
  },
  {
   "cell_type": "code",
   "execution_count": 9,
   "id": "7841df52",
   "metadata": {},
   "outputs": [
    {
     "data": {
      "text/plain": [
       "array([1, 2, 3, 4])"
      ]
     },
     "execution_count": 9,
     "metadata": {},
     "output_type": "execute_result"
    }
   ],
   "source": [
    "array"
   ]
  },
  {
   "cell_type": "code",
   "execution_count": 10,
   "id": "cb5a9823",
   "metadata": {},
   "outputs": [
    {
     "data": {
      "text/plain": [
       "array([1, 2, 3, 4])"
      ]
     },
     "execution_count": 10,
     "metadata": {},
     "output_type": "execute_result"
    }
   ],
   "source": [
    "a=array.copy()\n",
    "a"
   ]
  },
  {
   "cell_type": "code",
   "execution_count": 11,
   "id": "ef339bae",
   "metadata": {},
   "outputs": [
    {
     "data": {
      "text/plain": [
       "array([4, 3, 2, 1])"
      ]
     },
     "execution_count": 11,
     "metadata": {},
     "output_type": "execute_result"
    }
   ],
   "source": [
    "b=np.array(lista[::-1])\n",
    "b"
   ]
  },
  {
   "cell_type": "code",
   "execution_count": 12,
   "id": "a4fc5c31",
   "metadata": {},
   "outputs": [
    {
     "data": {
      "text/plain": [
       "array([5, 5, 5, 5])"
      ]
     },
     "execution_count": 12,
     "metadata": {},
     "output_type": "execute_result"
    }
   ],
   "source": [
    "a+b"
   ]
  },
  {
   "cell_type": "code",
   "execution_count": 13,
   "id": "7b34d899",
   "metadata": {},
   "outputs": [
    {
     "data": {
      "text/plain": [
       "array([0, 0, 0, 0, 0, 0, 0, 0, 0, 0], dtype=int8)"
      ]
     },
     "execution_count": 13,
     "metadata": {},
     "output_type": "execute_result"
    }
   ],
   "source": [
    "zeri=np.zeros(10,dtype=np.int8)\n",
    "zeri"
   ]
  },
  {
   "cell_type": "code",
   "execution_count": 14,
   "id": "6d338457",
   "metadata": {},
   "outputs": [
    {
     "data": {
      "text/plain": [
       "array([1, 1, 1, 1, 1, 1, 1, 1, 1, 1], dtype=int8)"
      ]
     },
     "execution_count": 14,
     "metadata": {},
     "output_type": "execute_result"
    }
   ],
   "source": [
    "uni=np.ones(10,dtype=np.int8)\n",
    "uni"
   ]
  },
  {
   "cell_type": "code",
   "execution_count": 15,
   "id": "bb6b730e",
   "metadata": {},
   "outputs": [
    {
     "data": {
      "text/plain": [
       "array([0.53074083, 0.63060424, 0.98986872, 0.28358747, 0.56080196,\n",
       "       0.83618217, 0.57503345, 0.46456428, 0.59863218, 0.10662006])"
      ]
     },
     "execution_count": 15,
     "metadata": {},
     "output_type": "execute_result"
    }
   ],
   "source": [
    "np.random.uniform(size=10)"
   ]
  },
  {
   "cell_type": "code",
   "execution_count": 16,
   "id": "c6c7d960",
   "metadata": {},
   "outputs": [
    {
     "data": {
      "text/plain": [
       "array([5, 3, 4, 6, 6, 3, 3, 5, 4, 4])"
      ]
     },
     "execution_count": 16,
     "metadata": {},
     "output_type": "execute_result"
    }
   ],
   "source": [
    "alice=np.random.randint(1,7,10)\n",
    "alice"
   ]
  },
  {
   "cell_type": "code",
   "execution_count": 17,
   "id": "946383d9",
   "metadata": {},
   "outputs": [
    {
     "data": {
      "text/plain": [
       "array([5, 1, 4, 2, 6, 4, 4, 4, 3, 3])"
      ]
     },
     "execution_count": 17,
     "metadata": {},
     "output_type": "execute_result"
    }
   ],
   "source": [
    "bob=np.random.randint(1,7,10)\n",
    "bob"
   ]
  },
  {
   "cell_type": "code",
   "execution_count": 18,
   "id": "036bead2",
   "metadata": {},
   "outputs": [
    {
     "name": "stdout",
     "output_type": "stream",
     "text": [
      "[False  True False  True False False False  True  True  True]\n"
     ]
    },
    {
     "data": {
      "text/plain": [
       "dtype('bool')"
      ]
     },
     "execution_count": 18,
     "metadata": {},
     "output_type": "execute_result"
    }
   ],
   "source": [
    "alicevince=alice>bob\n",
    "print(alicevince)\n",
    "alicevince.dtype"
   ]
  },
  {
   "cell_type": "code",
   "execution_count": 19,
   "id": "ad9e8184",
   "metadata": {},
   "outputs": [
    {
     "data": {
      "text/plain": [
       "dtype('int64')"
      ]
     },
     "execution_count": 19,
     "metadata": {},
     "output_type": "execute_result"
    }
   ],
   "source": [
    "alice.dtype"
   ]
  },
  {
   "cell_type": "markdown",
   "id": "46b8f444",
   "metadata": {},
   "source": [
    "## indicizzazione booleana"
   ]
  },
  {
   "cell_type": "code",
   "execution_count": 20,
   "id": "3c366bce",
   "metadata": {},
   "outputs": [
    {
     "data": {
      "text/plain": [
       "array([3, 6, 5, 4, 4])"
      ]
     },
     "execution_count": 20,
     "metadata": {},
     "output_type": "execute_result"
    }
   ],
   "source": [
    "alice[alicevince]"
   ]
  },
  {
   "cell_type": "code",
   "execution_count": 21,
   "id": "b4a282a1",
   "metadata": {
    "scrolled": true
   },
   "outputs": [
    {
     "data": {
      "text/plain": [
       "array([1, 2, 4, 3, 3])"
      ]
     },
     "execution_count": 21,
     "metadata": {},
     "output_type": "execute_result"
    }
   ],
   "source": [
    "bob[alicevince]"
   ]
  },
  {
   "cell_type": "markdown",
   "id": "94a2dd96",
   "metadata": {},
   "source": [
    "## intervalli di numeri interi"
   ]
  },
  {
   "cell_type": "code",
   "execution_count": 22,
   "id": "5af9b5c3",
   "metadata": {},
   "outputs": [
    {
     "data": {
      "text/plain": [
       "array([ 3,  6,  9, 12, 15, 18, 21])"
      ]
     },
     "execution_count": 22,
     "metadata": {},
     "output_type": "execute_result"
    }
   ],
   "source": [
    "np.arange(3,22,3)"
   ]
  },
  {
   "cell_type": "markdown",
   "id": "18afa714",
   "metadata": {},
   "source": [
    "## Intervalli di numeri reali"
   ]
  },
  {
   "cell_type": "code",
   "execution_count": 23,
   "id": "ce71d91f",
   "metadata": {},
   "outputs": [
    {
     "data": {
      "text/plain": [
       "array([0. , 0.5, 1. , 1.5, 2. , 2.5, 3. , 3.5, 4. , 4.5, 5. ])"
      ]
     },
     "execution_count": 23,
     "metadata": {},
     "output_type": "execute_result"
    }
   ],
   "source": [
    "np.linspace(0.0,5.0,11)"
   ]
  },
  {
   "cell_type": "markdown",
   "id": "a7fa60a4",
   "metadata": {},
   "source": [
    "## Numeri casuali"
   ]
  },
  {
   "cell_type": "code",
   "execution_count": 24,
   "id": "e0185a2d",
   "metadata": {},
   "outputs": [
    {
     "data": {
      "text/plain": [
       "array([0.39231445, 4.23195236, 6.83518576, 6.72855813, 8.89169677])"
      ]
     },
     "execution_count": 24,
     "metadata": {},
     "output_type": "execute_result"
    }
   ],
   "source": [
    "np.random.uniform(0.,10.,5)"
   ]
  },
  {
   "cell_type": "code",
   "execution_count": 25,
   "id": "6c7b239b",
   "metadata": {},
   "outputs": [
    {
     "data": {
      "text/plain": [
       "array([3, 3, 1, 5, 5])"
      ]
     },
     "execution_count": 25,
     "metadata": {},
     "output_type": "execute_result"
    }
   ],
   "source": [
    "np.random.randint(1,7,5)"
   ]
  },
  {
   "cell_type": "code",
   "execution_count": 26,
   "id": "05f59524",
   "metadata": {},
   "outputs": [
    {
     "name": "stdout",
     "output_type": "stream",
     "text": [
      "['Croce' 'Testa' 'Croce' ... 'Croce' 'Croce' 'Testa']\n"
     ]
    }
   ],
   "source": [
    "print(np.random.choice([\"Testa\",\"Croce\"],10000000))"
   ]
  },
  {
   "cell_type": "markdown",
   "id": "dbc1cfe9",
   "metadata": {},
   "source": [
    "E={T,C} \n",
    "\n",
    "Pe=Ne/Nt, numero di volte che e capitato diviso il nuemro di volte dell'evento(definizione frequentista)\n",
    "\n",
    "Nt=100, Ne=51, Pe=51/100=0,51"
   ]
  },
  {
   "cell_type": "code",
   "execution_count": 27,
   "id": "ba0933cf",
   "metadata": {},
   "outputs": [
    {
     "data": {
      "text/plain": [
       "array(['Testa', 'croce', 'Testa', 'Testa', 'croce', 'Testa', 'Testa',\n",
       "       'Testa', 'Testa', 'croce'], dtype='<U5')"
      ]
     },
     "execution_count": 27,
     "metadata": {},
     "output_type": "execute_result"
    }
   ],
   "source": [
    "np.random.choice([\"Testa\",\"croce\"],10,p=[0.7,0.3])"
   ]
  },
  {
   "cell_type": "code",
   "execution_count": 28,
   "id": "ee8c9dca",
   "metadata": {
    "scrolled": true
   },
   "outputs": [
    {
     "data": {
      "text/plain": [
       "array([2, 2, 2, 2, 2, 2, 2, 2, 2, 2])"
      ]
     },
     "execution_count": 28,
     "metadata": {},
     "output_type": "execute_result"
    }
   ],
   "source": [
    "np.random.choice([2],10)"
   ]
  },
  {
   "cell_type": "markdown",
   "id": "97d43ebd",
   "metadata": {},
   "source": [
    "## CURVA GAUSSIANA"
   ]
  },
  {
   "cell_type": "code",
   "execution_count": 33,
   "id": "d3702041",
   "metadata": {
    "scrolled": true
   },
   "outputs": [
    {
     "data": {
      "text/plain": [
       "array([[171.95648102, 172.99041702, 180.77672602, 176.46380737,\n",
       "        175.12713615, 188.82831523, 176.76856517],\n",
       "       [176.74361672, 174.58474399, 167.62327777, 189.01755642,\n",
       "        166.84815079, 173.45744698, 179.42756315],\n",
       "       [169.88857104, 187.05364398, 167.80119065, 188.42511994,\n",
       "        175.19583019, 175.87173925, 194.92214804],\n",
       "       [176.15979273, 167.28019603, 176.29387337, 172.58553043,\n",
       "        162.01297639, 152.02236548, 186.82932708],\n",
       "       [181.41612771, 188.29454417, 173.71324893, 186.19077369,\n",
       "        179.63173714, 169.77019716, 173.51281512]])"
      ]
     },
     "execution_count": 33,
     "metadata": {},
     "output_type": "execute_result"
    }
   ],
   "source": [
    "altezze=np.random.normal(178,10,(5,7))\n",
    "altezze"
   ]
  },
  {
   "cell_type": "code",
   "execution_count": 30,
   "id": "a1bed241",
   "metadata": {},
   "outputs": [
    {
     "data": {
      "text/plain": [
       "192.5687718776346"
      ]
     },
     "execution_count": 30,
     "metadata": {},
     "output_type": "execute_result"
    }
   ],
   "source": [
    "np.max(altezze)"
   ]
  },
  {
   "cell_type": "code",
   "execution_count": 31,
   "id": "e4a34f87",
   "metadata": {},
   "outputs": [
    {
     "data": {
      "text/plain": [
       "160.2328958596573"
      ]
     },
     "execution_count": 31,
     "metadata": {},
     "output_type": "execute_result"
    }
   ],
   "source": [
    "np.min(altezze)"
   ]
  },
  {
   "cell_type": "code",
   "execution_count": 35,
   "id": "6a56c2a3",
   "metadata": {},
   "outputs": [
    {
     "data": {
      "text/plain": [
       "array([[1, 2, 3],\n",
       "       [4, 5, 6]])"
      ]
     },
     "execution_count": 35,
     "metadata": {},
     "output_type": "execute_result"
    }
   ],
   "source": [
    "array_2d=np.array([[1,2,3],[4,5,6]])\n",
    "array_2d"
   ]
  },
  {
   "cell_type": "code",
   "execution_count": 36,
   "id": "b38b088d",
   "metadata": {},
   "outputs": [
    {
     "data": {
      "text/plain": [
       "(2, 3)"
      ]
     },
     "execution_count": 36,
     "metadata": {},
     "output_type": "execute_result"
    }
   ],
   "source": [
    "array_2d.shape"
   ]
  },
  {
   "cell_type": "code",
   "execution_count": 38,
   "id": "eb278c4f",
   "metadata": {},
   "outputs": [
    {
     "data": {
      "text/plain": [
       "array([[0.60463961, 0.44868155],\n",
       "       [0.41340314, 0.94148214],\n",
       "       [0.45577083, 0.73896758],\n",
       "       [0.63210936, 0.72095381],\n",
       "       [0.2983118 , 0.63598791],\n",
       "       [0.50198634, 0.09389617],\n",
       "       [0.28721977, 0.91757528],\n",
       "       [0.8329563 , 0.57543088]])"
      ]
     },
     "execution_count": 38,
     "metadata": {},
     "output_type": "execute_result"
    }
   ],
   "source": [
    "array_2d_casuale=np.random.uniform(0,1,(8,2))\n",
    "array_2d_casuale"
   ]
  },
  {
   "cell_type": "markdown",
   "id": "7d450d02",
   "metadata": {},
   "source": [
    "### elemento"
   ]
  },
  {
   "cell_type": "code",
   "execution_count": 39,
   "id": "670a24d4",
   "metadata": {},
   "outputs": [
    {
     "data": {
      "text/plain": [
       "0.7209538074215145"
      ]
     },
     "execution_count": 39,
     "metadata": {},
     "output_type": "execute_result"
    }
   ],
   "source": [
    "array_2d_casuale[3,1]"
   ]
  },
  {
   "cell_type": "markdown",
   "id": "6e877451",
   "metadata": {},
   "source": [
    "### colonna"
   ]
  },
  {
   "cell_type": "code",
   "execution_count": 40,
   "id": "706f3c10",
   "metadata": {},
   "outputs": [
    {
     "data": {
      "text/plain": [
       "array([0.60463961, 0.41340314, 0.45577083, 0.63210936, 0.2983118 ,\n",
       "       0.50198634, 0.28721977, 0.8329563 ])"
      ]
     },
     "execution_count": 40,
     "metadata": {},
     "output_type": "execute_result"
    }
   ],
   "source": [
    "array_2d_casuale[:,0]"
   ]
  },
  {
   "cell_type": "markdown",
   "id": "4ae3a96b",
   "metadata": {},
   "source": [
    "### Riga"
   ]
  },
  {
   "cell_type": "code",
   "execution_count": 42,
   "id": "177ad74c",
   "metadata": {},
   "outputs": [
    {
     "data": {
      "text/plain": [
       "array([0.63210936, 0.72095381])"
      ]
     },
     "execution_count": 42,
     "metadata": {},
     "output_type": "execute_result"
    }
   ],
   "source": [
    "array_2d_casuale[3,:]"
   ]
  },
  {
   "cell_type": "markdown",
   "id": "3916dcef",
   "metadata": {},
   "source": [
    "### Blocco"
   ]
  },
  {
   "cell_type": "code",
   "execution_count": 43,
   "id": "8ab81869",
   "metadata": {},
   "outputs": [
    {
     "data": {
      "text/plain": [
       "array([[0.45577083, 0.73896758],\n",
       "       [0.63210936, 0.72095381],\n",
       "       [0.2983118 , 0.63598791]])"
      ]
     },
     "execution_count": 43,
     "metadata": {},
     "output_type": "execute_result"
    }
   ],
   "source": [
    "array_2d_casuale[2:5,:]"
   ]
  },
  {
   "cell_type": "markdown",
   "id": "e53260a3",
   "metadata": {},
   "source": [
    "### Assegnazione"
   ]
  },
  {
   "cell_type": "code",
   "execution_count": 44,
   "id": "e3e52447",
   "metadata": {},
   "outputs": [
    {
     "data": {
      "text/plain": [
       "array([[0.60463961, 0.44868155],\n",
       "       [0.41340314, 0.94148214],\n",
       "       [1.        , 1.        ],\n",
       "       [1.        , 1.        ],\n",
       "       [1.        , 1.        ],\n",
       "       [0.50198634, 0.09389617],\n",
       "       [0.28721977, 0.91757528],\n",
       "       [0.8329563 , 0.57543088]])"
      ]
     },
     "execution_count": 44,
     "metadata": {},
     "output_type": "execute_result"
    }
   ],
   "source": [
    "array_2d_casuale[2:5,:]=1.\n",
    "array_2d_casuale"
   ]
  },
  {
   "cell_type": "markdown",
   "id": "aa68af54",
   "metadata": {},
   "source": [
    "# ESERCIZIO\n",
    "\n",
    "## Soluzione numpy"
   ]
  },
  {
   "cell_type": "code",
   "execution_count": 62,
   "id": "95878189",
   "metadata": {},
   "outputs": [],
   "source": [
    "n = 1000000"
   ]
  },
  {
   "cell_type": "code",
   "execution_count": 63,
   "id": "9f4f0452",
   "metadata": {},
   "outputs": [
    {
     "name": "stdout",
     "output_type": "stream",
     "text": [
      "473 µs ± 18.2 µs per loop (mean ± std. dev. of 7 runs, 1,000 loops each)\n"
     ]
    }
   ],
   "source": [
    "%%timeit\n",
    "array=np.zeros(n,dtype=np.int8)\n",
    "array[::2]=1."
   ]
  },
  {
   "cell_type": "markdown",
   "id": "2e1e131b",
   "metadata": {},
   "source": [
    "## Soluzione python"
   ]
  },
  {
   "cell_type": "code",
   "execution_count": 64,
   "id": "e9a950b3",
   "metadata": {},
   "outputs": [
    {
     "name": "stdout",
     "output_type": "stream",
     "text": [
      "73.1 ms ± 1.83 ms per loop (mean ± std. dev. of 7 runs, 10 loops each)\n"
     ]
    }
   ],
   "source": [
    "%%timeit\n",
    "l=[i%2 for i in range(n)]\n",
    "l"
   ]
  },
  {
   "cell_type": "code",
   "execution_count": null,
   "id": "ab855586",
   "metadata": {},
   "outputs": [],
   "source": []
  }
 ],
 "metadata": {
  "kernelspec": {
   "display_name": "Python 3 (ipykernel)",
   "language": "python",
   "name": "python3"
  },
  "language_info": {
   "codemirror_mode": {
    "name": "ipython",
    "version": 3
   },
   "file_extension": ".py",
   "mimetype": "text/x-python",
   "name": "python",
   "nbconvert_exporter": "python",
   "pygments_lexer": "ipython3",
   "version": "3.9.12"
  }
 },
 "nbformat": 4,
 "nbformat_minor": 5
}
