{
 "cells": [
  {
   "cell_type": "code",
   "execution_count": 30,
   "id": "422aa053",
   "metadata": {},
   "outputs": [],
   "source": [
    "n=6000"
   ]
  },
  {
   "cell_type": "code",
   "execution_count": 32,
   "id": "1af38aa1",
   "metadata": {},
   "outputs": [
    {
     "data": {
      "text/plain": [
       "[0, 1, 2, 3, 4, 5, 6, 7, 8, 9, 10, 11, 12]"
      ]
     },
     "execution_count": 32,
     "metadata": {},
     "output_type": "execute_result"
    }
   ],
   "source": [
    "l=[i for i in range(0,n) if (2**i)<n]\n",
    "l\n"
   ]
  },
  {
   "cell_type": "code",
   "execution_count": 40,
   "id": "9518c2b2",
   "metadata": {
    "scrolled": true
   },
   "outputs": [
    {
     "data": {
      "text/plain": [
       "[1, 9, 25, 49, 81, 121, 169]"
      ]
     },
     "execution_count": 40,
     "metadata": {},
     "output_type": "execute_result"
    }
   ],
   "source": [
    "n=200\n",
    "\n",
    "l=[i*i for i in range(0,n) if (i*i)<n and i%2!=0]\n",
    "l"
   ]
  },
  {
   "cell_type": "code",
   "execution_count": 52,
   "id": "04ae872b",
   "metadata": {},
   "outputs": [
    {
     "data": {
      "text/plain": [
       "[[0, 1, 2, 3, 4, 5, 6, 7, 8, 9],\n",
       " [0, 2, 4, 6, 8, 10, 12, 14, 16, 18],\n",
       " [0, 3, 6, 9, 12, 15, 18, 21, 24, 27],\n",
       " [0, 4, 8, 12, 16, 20, 24, 28, 32, 36],\n",
       " [0, 5, 10, 15, 20, 25, 30, 35, 40, 45],\n",
       " [0, 6, 12, 18, 24, 30, 36, 42, 48, 54],\n",
       " [0, 7, 14, 21, 28, 35, 42, 49, 56, 63],\n",
       " [0, 8, 16, 24, 32, 40, 48, 56, 64, 72],\n",
       " [0, 9, 18, 27, 36, 45, 54, 63, 72, 81]]"
      ]
     },
     "execution_count": 52,
     "metadata": {},
     "output_type": "execute_result"
    }
   ],
   "source": [
    "n=10\n",
    "i=0\n",
    "l=[[i*j for j in range(n)] for i in range(n) if i!=0]\n",
    "l"
   ]
  },
  {
   "cell_type": "code",
   "execution_count": 61,
   "id": "195f4f2e",
   "metadata": {},
   "outputs": [],
   "source": [
    "def somma(a,b):\n",
    "    return a+b\n",
    "    \n",
    "def prodotto(a,b):\n",
    "    return a*b\n",
    "\n",
    "def divisione(a,b):\n",
    "    if b!=0:\n",
    "        return a/b\n",
    "    else:\n",
    "        print(\"operazione non possibile\")\n",
    "        pass\n",
    "def sottrazione(a,b):\n",
    "    return a-b\n",
    "\n",
    "operazioni={0:somma,1:sottrazione,2:prodotto,3:divisione}"
   ]
  },
  {
   "cell_type": "code",
   "execution_count": 63,
   "id": "5c291a20",
   "metadata": {},
   "outputs": [
    {
     "name": "stdout",
     "output_type": "stream",
     "text": [
      "inserire un numero:4\n",
      "inserire un numero:0\n",
      "0-somma,1-sottrazione,2-prodotto,3-divisione quale operazione vuole eseguire:3\n",
      "operazione non possibile\n"
     ]
    }
   ],
   "source": [
    "a=int(input(\"inserire un numero:\"))\n",
    "b=int(input(\"inserire un numero:\"))\n",
    "risp=int(input(\"0-somma,1-sottrazione,2-prodotto,3-divisione quale operazione vuole eseguire:\"))\n",
    "risp\n",
    "risultato=operazioni[risp](a,b);\n",
    "risultato"
   ]
  },
  {
   "cell_type": "code",
   "execution_count": null,
   "id": "567fcb08",
   "metadata": {},
   "outputs": [],
   "source": []
  }
 ],
 "metadata": {
  "kernelspec": {
   "display_name": "Python 3 (ipykernel)",
   "language": "python",
   "name": "python3"
  },
  "language_info": {
   "codemirror_mode": {
    "name": "ipython",
    "version": 3
   },
   "file_extension": ".py",
   "mimetype": "text/x-python",
   "name": "python",
   "nbconvert_exporter": "python",
   "pygments_lexer": "ipython3",
   "version": "3.9.12"
  }
 },
 "nbformat": 4,
 "nbformat_minor": 5
}
