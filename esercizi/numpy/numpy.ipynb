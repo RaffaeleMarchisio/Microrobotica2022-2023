{
 "cells": [
  {
   "cell_type": "code",
   "execution_count": 1,
   "id": "c75c4bdd",
   "metadata": {},
   "outputs": [],
   "source": [
    "import numpy as np"
   ]
  },
  {
   "cell_type": "code",
   "execution_count": 2,
   "id": "f24d5aba",
   "metadata": {},
   "outputs": [],
   "source": [
    "lista=[1,2,3,4]"
   ]
  },
  {
   "cell_type": "code",
   "execution_count": 3,
   "id": "67784f29",
   "metadata": {},
   "outputs": [
    {
     "data": {
      "text/plain": [
       "list"
      ]
     },
     "execution_count": 3,
     "metadata": {},
     "output_type": "execute_result"
    }
   ],
   "source": [
    "type(lista)"
   ]
  },
  {
   "cell_type": "code",
   "execution_count": 4,
   "id": "fa9622c0",
   "metadata": {},
   "outputs": [
    {
     "data": {
      "text/plain": [
       "array([1, 2, 3, 4])"
      ]
     },
     "execution_count": 4,
     "metadata": {},
     "output_type": "execute_result"
    }
   ],
   "source": [
    "array=np.array(lista)\n",
    "array"
   ]
  },
  {
   "cell_type": "code",
   "execution_count": 5,
   "id": "f0ef6d81",
   "metadata": {},
   "outputs": [
    {
     "data": {
      "text/plain": [
       "numpy.ndarray"
      ]
     },
     "execution_count": 5,
     "metadata": {},
     "output_type": "execute_result"
    }
   ],
   "source": [
    "type(array)"
   ]
  },
  {
   "cell_type": "code",
   "execution_count": 6,
   "id": "04ff0996",
   "metadata": {},
   "outputs": [
    {
     "data": {
      "text/plain": [
       "array([ 3,  6,  9, 12])"
      ]
     },
     "execution_count": 6,
     "metadata": {},
     "output_type": "execute_result"
    }
   ],
   "source": [
    "3*array"
   ]
  },
  {
   "cell_type": "code",
   "execution_count": 7,
   "id": "0f94d6de",
   "metadata": {},
   "outputs": [
    {
     "data": {
      "text/plain": [
       "[1, 2, 3, 4, 1, 2, 3, 4, 1, 2, 3, 4]"
      ]
     },
     "execution_count": 7,
     "metadata": {},
     "output_type": "execute_result"
    }
   ],
   "source": [
    "3*lista"
   ]
  },
  {
   "cell_type": "code",
   "execution_count": 8,
   "id": "e6167dce",
   "metadata": {},
   "outputs": [
    {
     "data": {
      "text/plain": [
       "array([11, 12, 13, 14])"
      ]
     },
     "execution_count": 8,
     "metadata": {},
     "output_type": "execute_result"
    }
   ],
   "source": [
    "10+array"
   ]
  },
  {
   "cell_type": "code",
   "execution_count": 9,
   "id": "7841df52",
   "metadata": {},
   "outputs": [
    {
     "data": {
      "text/plain": [
       "array([1, 2, 3, 4])"
      ]
     },
     "execution_count": 9,
     "metadata": {},
     "output_type": "execute_result"
    }
   ],
   "source": [
    "array"
   ]
  },
  {
   "cell_type": "code",
   "execution_count": 10,
   "id": "cb5a9823",
   "metadata": {},
   "outputs": [
    {
     "data": {
      "text/plain": [
       "array([1, 2, 3, 4])"
      ]
     },
     "execution_count": 10,
     "metadata": {},
     "output_type": "execute_result"
    }
   ],
   "source": [
    "a=array.copy()\n",
    "a"
   ]
  },
  {
   "cell_type": "code",
   "execution_count": 11,
   "id": "ef339bae",
   "metadata": {},
   "outputs": [
    {
     "data": {
      "text/plain": [
       "array([4, 3, 2, 1])"
      ]
     },
     "execution_count": 11,
     "metadata": {},
     "output_type": "execute_result"
    }
   ],
   "source": [
    "b=np.array(lista[::-1])\n",
    "b"
   ]
  },
  {
   "cell_type": "code",
   "execution_count": 12,
   "id": "a4fc5c31",
   "metadata": {},
   "outputs": [
    {
     "data": {
      "text/plain": [
       "array([5, 5, 5, 5])"
      ]
     },
     "execution_count": 12,
     "metadata": {},
     "output_type": "execute_result"
    }
   ],
   "source": [
    "a+b"
   ]
  },
  {
   "cell_type": "code",
   "execution_count": 13,
   "id": "7b34d899",
   "metadata": {},
   "outputs": [
    {
     "data": {
      "text/plain": [
       "array([0, 0, 0, 0, 0, 0, 0, 0, 0, 0], dtype=int8)"
      ]
     },
     "execution_count": 13,
     "metadata": {},
     "output_type": "execute_result"
    }
   ],
   "source": [
    "zeri=np.zeros(10,dtype=np.int8)\n",
    "zeri"
   ]
  },
  {
   "cell_type": "code",
   "execution_count": 14,
   "id": "6d338457",
   "metadata": {},
   "outputs": [
    {
     "data": {
      "text/plain": [
       "array([1, 1, 1, 1, 1, 1, 1, 1, 1, 1], dtype=int8)"
      ]
     },
     "execution_count": 14,
     "metadata": {},
     "output_type": "execute_result"
    }
   ],
   "source": [
    "uni=np.ones(10,dtype=np.int8)\n",
    "uni"
   ]
  },
  {
   "cell_type": "code",
   "execution_count": 15,
   "id": "bb6b730e",
   "metadata": {},
   "outputs": [
    {
     "data": {
      "text/plain": [
       "array([0.76646187, 0.51490508, 0.31546814, 0.58409613, 0.87680293,\n",
       "       0.60335387, 0.77874277, 0.99943394, 0.46336239, 0.71244373])"
      ]
     },
     "execution_count": 15,
     "metadata": {},
     "output_type": "execute_result"
    }
   ],
   "source": [
    "np.random.uniform(size=10)"
   ]
  },
  {
   "cell_type": "code",
   "execution_count": 16,
   "id": "c6c7d960",
   "metadata": {},
   "outputs": [
    {
     "data": {
      "text/plain": [
       "array([5, 6, 3, 6, 4, 5, 6, 2, 6, 2])"
      ]
     },
     "execution_count": 16,
     "metadata": {},
     "output_type": "execute_result"
    }
   ],
   "source": [
    "alice=np.random.randint(1,7,10)\n",
    "alice"
   ]
  },
  {
   "cell_type": "code",
   "execution_count": 17,
   "id": "946383d9",
   "metadata": {},
   "outputs": [
    {
     "data": {
      "text/plain": [
       "array([3, 4, 4, 5, 2, 4, 4, 1, 3, 2])"
      ]
     },
     "execution_count": 17,
     "metadata": {},
     "output_type": "execute_result"
    }
   ],
   "source": [
    "bob=np.random.randint(1,7,10)\n",
    "bob"
   ]
  },
  {
   "cell_type": "code",
   "execution_count": 18,
   "id": "036bead2",
   "metadata": {},
   "outputs": [
    {
     "name": "stdout",
     "output_type": "stream",
     "text": [
      "[ True  True False  True  True  True  True  True  True False]\n"
     ]
    },
    {
     "data": {
      "text/plain": [
       "dtype('bool')"
      ]
     },
     "execution_count": 18,
     "metadata": {},
     "output_type": "execute_result"
    }
   ],
   "source": [
    "alicevince=alice>bob\n",
    "print(alicevince)\n",
    "alicevince.dtype"
   ]
  },
  {
   "cell_type": "code",
   "execution_count": 19,
   "id": "ad9e8184",
   "metadata": {},
   "outputs": [
    {
     "data": {
      "text/plain": [
       "dtype('int64')"
      ]
     },
     "execution_count": 19,
     "metadata": {},
     "output_type": "execute_result"
    }
   ],
   "source": [
    "alice.dtype"
   ]
  },
  {
   "cell_type": "markdown",
   "id": "46b8f444",
   "metadata": {},
   "source": [
    "## indicizzazione booleana"
   ]
  },
  {
   "cell_type": "code",
   "execution_count": 20,
   "id": "3c366bce",
   "metadata": {},
   "outputs": [
    {
     "data": {
      "text/plain": [
       "array([5, 6, 6, 4, 5, 6, 2, 6])"
      ]
     },
     "execution_count": 20,
     "metadata": {},
     "output_type": "execute_result"
    }
   ],
   "source": [
    "alice[alicevince]"
   ]
  },
  {
   "cell_type": "code",
   "execution_count": 21,
   "id": "b4a282a1",
   "metadata": {
    "scrolled": true
   },
   "outputs": [
    {
     "data": {
      "text/plain": [
       "array([3, 4, 5, 2, 4, 4, 1, 3])"
      ]
     },
     "execution_count": 21,
     "metadata": {},
     "output_type": "execute_result"
    }
   ],
   "source": [
    "bob[alicevince]"
   ]
  },
  {
   "cell_type": "markdown",
   "id": "94a2dd96",
   "metadata": {},
   "source": [
    "## intervalli di numeri interi"
   ]
  },
  {
   "cell_type": "code",
   "execution_count": 22,
   "id": "5af9b5c3",
   "metadata": {},
   "outputs": [
    {
     "data": {
      "text/plain": [
       "array([ 3,  6,  9, 12, 15, 18, 21])"
      ]
     },
     "execution_count": 22,
     "metadata": {},
     "output_type": "execute_result"
    }
   ],
   "source": [
    "np.arange(3,22,3)"
   ]
  },
  {
   "cell_type": "markdown",
   "id": "18afa714",
   "metadata": {},
   "source": [
    "## Intervalli di numeri reali"
   ]
  },
  {
   "cell_type": "code",
   "execution_count": 23,
   "id": "ce71d91f",
   "metadata": {},
   "outputs": [
    {
     "data": {
      "text/plain": [
       "array([0. , 0.5, 1. , 1.5, 2. , 2.5, 3. , 3.5, 4. , 4.5, 5. ])"
      ]
     },
     "execution_count": 23,
     "metadata": {},
     "output_type": "execute_result"
    }
   ],
   "source": [
    "np.linspace(0.0,5.0,11)"
   ]
  },
  {
   "cell_type": "markdown",
   "id": "a7fa60a4",
   "metadata": {},
   "source": [
    "## Numeri casuali"
   ]
  },
  {
   "cell_type": "code",
   "execution_count": 24,
   "id": "e0185a2d",
   "metadata": {},
   "outputs": [
    {
     "data": {
      "text/plain": [
       "array([4.31645868, 7.72285326, 5.13526551, 0.73064061, 4.45176063])"
      ]
     },
     "execution_count": 24,
     "metadata": {},
     "output_type": "execute_result"
    }
   ],
   "source": [
    "np.random.uniform(0.,10.,5)"
   ]
  },
  {
   "cell_type": "code",
   "execution_count": 25,
   "id": "6c7b239b",
   "metadata": {},
   "outputs": [
    {
     "data": {
      "text/plain": [
       "array([3, 2, 1, 1, 2])"
      ]
     },
     "execution_count": 25,
     "metadata": {},
     "output_type": "execute_result"
    }
   ],
   "source": [
    "np.random.randint(1,7,5)"
   ]
  },
  {
   "cell_type": "code",
   "execution_count": 26,
   "id": "05f59524",
   "metadata": {},
   "outputs": [
    {
     "name": "stdout",
     "output_type": "stream",
     "text": [
      "['Testa' 'Croce' 'Croce' ... 'Croce' 'Croce' 'Croce']\n"
     ]
    }
   ],
   "source": [
    "print(np.random.choice([\"Testa\",\"Croce\"],10000000))"
   ]
  },
  {
   "cell_type": "markdown",
   "id": "dbc1cfe9",
   "metadata": {},
   "source": [
    "E={T,C} \n",
    "\n",
    "Pe=Ne/Nt, numero di volte che e capitato diviso il nuemro di volte dell'evento(definizione frequentista)\n",
    "\n",
    "Nt=100, Ne=51, Pe=51/100=0,51"
   ]
  },
  {
   "cell_type": "code",
   "execution_count": 27,
   "id": "ba0933cf",
   "metadata": {},
   "outputs": [
    {
     "data": {
      "text/plain": [
       "array(['croce', 'Testa', 'Testa', 'Testa', 'Testa', 'Testa', 'Testa',\n",
       "       'Testa', 'croce', 'croce'], dtype='<U5')"
      ]
     },
     "execution_count": 27,
     "metadata": {},
     "output_type": "execute_result"
    }
   ],
   "source": [
    "np.random.choice([\"Testa\",\"croce\"],10,p=[0.7,0.3])"
   ]
  },
  {
   "cell_type": "code",
   "execution_count": 28,
   "id": "ee8c9dca",
   "metadata": {
    "scrolled": true
   },
   "outputs": [
    {
     "data": {
      "text/plain": [
       "array([2, 2, 2, 2, 2, 2, 2, 2, 2, 2])"
      ]
     },
     "execution_count": 28,
     "metadata": {},
     "output_type": "execute_result"
    }
   ],
   "source": [
    "np.random.choice([2],10)"
   ]
  },
  {
   "cell_type": "markdown",
   "id": "97d43ebd",
   "metadata": {},
   "source": [
    "## CURVA GAUSSIANA"
   ]
  },
  {
   "cell_type": "code",
   "execution_count": 29,
   "id": "d3702041",
   "metadata": {
    "scrolled": true
   },
   "outputs": [
    {
     "data": {
      "text/plain": [
       "array([[193.62381579, 186.69208656, 195.19797038, 168.23574943,\n",
       "        162.38994366, 178.49820427, 184.04150957],\n",
       "       [177.27222959, 161.82867629, 193.36187257, 164.07581711,\n",
       "        174.14258808, 178.78358672, 184.55885392],\n",
       "       [173.22942923, 174.27163288, 189.04048618, 175.33889627,\n",
       "        169.26586574, 190.70770672, 184.70685421],\n",
       "       [170.46382364, 186.66893648, 165.07419282, 173.72327017,\n",
       "        168.27015783, 158.45130142, 162.97296684],\n",
       "       [159.5481491 , 191.83516708, 170.46813797, 188.9125176 ,\n",
       "        152.38017174, 185.2047694 , 158.33529722]])"
      ]
     },
     "execution_count": 29,
     "metadata": {},
     "output_type": "execute_result"
    }
   ],
   "source": [
    "altezze=np.random.normal(178,10,(5,7))\n",
    "altezze"
   ]
  },
  {
   "cell_type": "code",
   "execution_count": 30,
   "id": "a1bed241",
   "metadata": {},
   "outputs": [
    {
     "data": {
      "text/plain": [
       "195.1979703824854"
      ]
     },
     "execution_count": 30,
     "metadata": {},
     "output_type": "execute_result"
    }
   ],
   "source": [
    "np.max(altezze)"
   ]
  },
  {
   "cell_type": "code",
   "execution_count": 31,
   "id": "e4a34f87",
   "metadata": {},
   "outputs": [
    {
     "data": {
      "text/plain": [
       "152.3801717397169"
      ]
     },
     "execution_count": 31,
     "metadata": {},
     "output_type": "execute_result"
    }
   ],
   "source": [
    "np.min(altezze)"
   ]
  },
  {
   "cell_type": "code",
   "execution_count": 32,
   "id": "6a56c2a3",
   "metadata": {},
   "outputs": [
    {
     "data": {
      "text/plain": [
       "array([[1, 2, 3],\n",
       "       [4, 5, 6]])"
      ]
     },
     "execution_count": 32,
     "metadata": {},
     "output_type": "execute_result"
    }
   ],
   "source": [
    "array_2d=np.array([[1,2,3],[4,5,6]])\n",
    "array_2d"
   ]
  },
  {
   "cell_type": "code",
   "execution_count": 33,
   "id": "b38b088d",
   "metadata": {},
   "outputs": [
    {
     "data": {
      "text/plain": [
       "(2, 3)"
      ]
     },
     "execution_count": 33,
     "metadata": {},
     "output_type": "execute_result"
    }
   ],
   "source": [
    "array_2d.shape"
   ]
  },
  {
   "cell_type": "code",
   "execution_count": 34,
   "id": "eb278c4f",
   "metadata": {},
   "outputs": [
    {
     "data": {
      "text/plain": [
       "array([[9.12368088e-01, 5.06305720e-01],\n",
       "       [2.57445157e-01, 7.78916215e-01],\n",
       "       [6.49602255e-01, 4.32876528e-01],\n",
       "       [3.37550591e-01, 6.63252822e-02],\n",
       "       [6.42694909e-01, 3.36517386e-02],\n",
       "       [9.05609026e-04, 9.55773533e-02],\n",
       "       [1.17914957e-01, 2.19346476e-01],\n",
       "       [5.55027803e-01, 2.39696821e-01]])"
      ]
     },
     "execution_count": 34,
     "metadata": {},
     "output_type": "execute_result"
    }
   ],
   "source": [
    "array_2d_casuale=np.random.uniform(0,1,(8,2))\n",
    "array_2d_casuale"
   ]
  },
  {
   "cell_type": "markdown",
   "id": "7d450d02",
   "metadata": {},
   "source": [
    "### elemento"
   ]
  },
  {
   "cell_type": "code",
   "execution_count": 35,
   "id": "670a24d4",
   "metadata": {},
   "outputs": [
    {
     "data": {
      "text/plain": [
       "0.06632528219449241"
      ]
     },
     "execution_count": 35,
     "metadata": {},
     "output_type": "execute_result"
    }
   ],
   "source": [
    "array_2d_casuale[3,1]"
   ]
  },
  {
   "cell_type": "markdown",
   "id": "6e877451",
   "metadata": {},
   "source": [
    "### colonna"
   ]
  },
  {
   "cell_type": "code",
   "execution_count": 36,
   "id": "706f3c10",
   "metadata": {},
   "outputs": [
    {
     "data": {
      "text/plain": [
       "array([9.12368088e-01, 2.57445157e-01, 6.49602255e-01, 3.37550591e-01,\n",
       "       6.42694909e-01, 9.05609026e-04, 1.17914957e-01, 5.55027803e-01])"
      ]
     },
     "execution_count": 36,
     "metadata": {},
     "output_type": "execute_result"
    }
   ],
   "source": [
    "array_2d_casuale[:,0]"
   ]
  },
  {
   "cell_type": "markdown",
   "id": "4ae3a96b",
   "metadata": {},
   "source": [
    "### Riga"
   ]
  },
  {
   "cell_type": "code",
   "execution_count": 37,
   "id": "177ad74c",
   "metadata": {},
   "outputs": [
    {
     "data": {
      "text/plain": [
       "array([0.33755059, 0.06632528])"
      ]
     },
     "execution_count": 37,
     "metadata": {},
     "output_type": "execute_result"
    }
   ],
   "source": [
    "array_2d_casuale[3,:]"
   ]
  },
  {
   "cell_type": "markdown",
   "id": "3916dcef",
   "metadata": {},
   "source": [
    "### Blocco"
   ]
  },
  {
   "cell_type": "code",
   "execution_count": 38,
   "id": "8ab81869",
   "metadata": {},
   "outputs": [
    {
     "data": {
      "text/plain": [
       "array([[0.64960225, 0.43287653],\n",
       "       [0.33755059, 0.06632528],\n",
       "       [0.64269491, 0.03365174]])"
      ]
     },
     "execution_count": 38,
     "metadata": {},
     "output_type": "execute_result"
    }
   ],
   "source": [
    "array_2d_casuale[2:5,:]"
   ]
  },
  {
   "cell_type": "markdown",
   "id": "e53260a3",
   "metadata": {},
   "source": [
    "### Assegnazione"
   ]
  },
  {
   "cell_type": "code",
   "execution_count": 39,
   "id": "e3e52447",
   "metadata": {},
   "outputs": [
    {
     "data": {
      "text/plain": [
       "array([[9.12368088e-01, 5.06305720e-01],\n",
       "       [2.57445157e-01, 7.78916215e-01],\n",
       "       [1.00000000e+00, 1.00000000e+00],\n",
       "       [1.00000000e+00, 1.00000000e+00],\n",
       "       [1.00000000e+00, 1.00000000e+00],\n",
       "       [9.05609026e-04, 9.55773533e-02],\n",
       "       [1.17914957e-01, 2.19346476e-01],\n",
       "       [5.55027803e-01, 2.39696821e-01]])"
      ]
     },
     "execution_count": 39,
     "metadata": {},
     "output_type": "execute_result"
    }
   ],
   "source": [
    "array_2d_casuale[2:5,:]=1.\n",
    "array_2d_casuale"
   ]
  },
  {
   "cell_type": "markdown",
   "id": "aa68af54",
   "metadata": {},
   "source": [
    "# ESERCIZIO\n",
    "\n",
    "## Soluzione numpy"
   ]
  },
  {
   "cell_type": "code",
   "execution_count": 40,
   "id": "95878189",
   "metadata": {},
   "outputs": [],
   "source": [
    "n = 1000000"
   ]
  },
  {
   "cell_type": "code",
   "execution_count": 41,
   "id": "9f4f0452",
   "metadata": {},
   "outputs": [
    {
     "name": "stdout",
     "output_type": "stream",
     "text": [
      "461 µs ± 18.9 µs per loop (mean ± std. dev. of 7 runs, 1000 loops each)\n"
     ]
    }
   ],
   "source": [
    "%%timeit\n",
    "array=np.zeros(n,dtype=np.int8)\n",
    "array[::2]=1."
   ]
  },
  {
   "cell_type": "markdown",
   "id": "2e1e131b",
   "metadata": {},
   "source": [
    "## Soluzione python"
   ]
  },
  {
   "cell_type": "code",
   "execution_count": 42,
   "id": "e9a950b3",
   "metadata": {},
   "outputs": [
    {
     "name": "stdout",
     "output_type": "stream",
     "text": [
      "80.4 ms ± 2.62 ms per loop (mean ± std. dev. of 7 runs, 10 loops each)\n"
     ]
    }
   ],
   "source": [
    "%%timeit\n",
    "l=[i%2 for i in range(n)]\n",
    "l"
   ]
  },
  {
   "cell_type": "code",
   "execution_count": 43,
   "id": "ab855586",
   "metadata": {},
   "outputs": [
    {
     "data": {
      "text/plain": [
       "array([ 1,  2,  3,  4,  5,  6,  7,  8,  9, 10, 11, 12, 13, 14, 15, 16, 17,\n",
       "       18, 19])"
      ]
     },
     "execution_count": 43,
     "metadata": {},
     "output_type": "execute_result"
    }
   ],
   "source": [
    "array_1d=np.arange(1,20)\n",
    "array_1d"
   ]
  },
  {
   "cell_type": "code",
   "execution_count": 44,
   "id": "c070b18f",
   "metadata": {},
   "outputs": [
    {
     "data": {
      "text/plain": [
       "array([-1,  2,  3,  4,  5, -1,  7,  8,  9, 10, -1, 12, 13, 14, 15, -1, 17,\n",
       "       18, 19])"
      ]
     },
     "execution_count": 44,
     "metadata": {},
     "output_type": "execute_result"
    }
   ],
   "source": [
    "array_1d[::5]=-1\n",
    "array_1d"
   ]
  },
  {
   "cell_type": "code",
   "execution_count": 45,
   "id": "026afb84",
   "metadata": {},
   "outputs": [
    {
     "data": {
      "text/plain": [
       "array([0, 1, 2, 3, 4])"
      ]
     },
     "execution_count": 45,
     "metadata": {},
     "output_type": "execute_result"
    }
   ],
   "source": [
    "array_1d=np.arange(0,5)\n",
    "array_1d"
   ]
  },
  {
   "cell_type": "code",
   "execution_count": 46,
   "id": "304d512b",
   "metadata": {},
   "outputs": [],
   "source": [
    "resto_fa_zero=array_1d%2==0"
   ]
  },
  {
   "cell_type": "code",
   "execution_count": 47,
   "id": "ffa020f7",
   "metadata": {},
   "outputs": [
    {
     "data": {
      "text/plain": [
       "array([0, 2, 4])"
      ]
     },
     "execution_count": 47,
     "metadata": {},
     "output_type": "execute_result"
    }
   ],
   "source": [
    "array_1d[resto_fa_zero]"
   ]
  },
  {
   "cell_type": "code",
   "execution_count": 48,
   "id": "dcf122aa",
   "metadata": {},
   "outputs": [
    {
     "data": {
      "text/plain": [
       "array([999,   1, 999,   3, 999])"
      ]
     },
     "execution_count": 48,
     "metadata": {},
     "output_type": "execute_result"
    }
   ],
   "source": [
    "array_1d[resto_fa_zero]=999\n",
    "array_1d"
   ]
  },
  {
   "cell_type": "code",
   "execution_count": 49,
   "id": "4b718334",
   "metadata": {},
   "outputs": [
    {
     "data": {
      "text/plain": [
       "array([0.53379715, 0.2571858 , 0.08601193, 0.45916206, 0.50282912,\n",
       "       0.1662475 , 0.13604005, 0.49703807, 0.97900677, 0.1303771 ])"
      ]
     },
     "execution_count": 49,
     "metadata": {},
     "output_type": "execute_result"
    }
   ],
   "source": [
    "array_1d=np.random.uniform(0.,1.,10)\n",
    "array_1d"
   ]
  },
  {
   "cell_type": "code",
   "execution_count": 50,
   "id": "367a9304",
   "metadata": {},
   "outputs": [],
   "source": [
    "array_1d[np.array([1,2,9])]=999 #indicizzazione con array di indici"
   ]
  },
  {
   "cell_type": "code",
   "execution_count": 51,
   "id": "b0e532e7",
   "metadata": {},
   "outputs": [
    {
     "data": {
      "text/plain": [
       "array([5.33797155e-01, 9.99000000e+02, 9.99000000e+02, 4.59162062e-01,\n",
       "       5.02829118e-01, 1.66247503e-01, 1.36040049e-01, 4.97038070e-01,\n",
       "       9.79006765e-01, 9.99000000e+02])"
      ]
     },
     "execution_count": 51,
     "metadata": {},
     "output_type": "execute_result"
    }
   ],
   "source": [
    "array_1d"
   ]
  },
  {
   "cell_type": "markdown",
   "id": "f63c00f6",
   "metadata": {},
   "source": [
    "# LEZIONE 2/11/22\n",
    "\n",
    "\n",
    "## IL BROADCAST"
   ]
  },
  {
   "cell_type": "code",
   "execution_count": 53,
   "id": "7ee5f55c",
   "metadata": {},
   "outputs": [
    {
     "data": {
      "text/plain": [
       "array([ 5, 10, 15, 20, 25])"
      ]
     },
     "execution_count": 53,
     "metadata": {},
     "output_type": "execute_result"
    }
   ],
   "source": [
    "array1=np.array([1,2,3,4,5])\n",
    "array1*5"
   ]
  },
  {
   "cell_type": "code",
   "execution_count": 54,
   "id": "0b0e96d8",
   "metadata": {},
   "outputs": [
    {
     "data": {
      "text/plain": [
       "array([  2.71828183,   7.3890561 ,  20.08553692,  54.59815003,\n",
       "       148.4131591 ])"
      ]
     },
     "execution_count": 54,
     "metadata": {},
     "output_type": "execute_result"
    }
   ],
   "source": [
    "np.exp(array1)"
   ]
  },
  {
   "cell_type": "code",
   "execution_count": 55,
   "id": "db124db7",
   "metadata": {},
   "outputs": [
    {
     "data": {
      "text/plain": [
       "array([1.        , 1.41421356, 1.73205081, 2.        , 2.23606798])"
      ]
     },
     "execution_count": 55,
     "metadata": {},
     "output_type": "execute_result"
    }
   ],
   "source": [
    "np.sqrt(array1)"
   ]
  },
  {
   "cell_type": "code",
   "execution_count": 56,
   "id": "391845b8",
   "metadata": {},
   "outputs": [
    {
     "data": {
      "text/plain": [
       "array([11, 12, 13, 14, 15])"
      ]
     },
     "execution_count": 56,
     "metadata": {},
     "output_type": "execute_result"
    }
   ],
   "source": [
    "array1+10"
   ]
  },
  {
   "cell_type": "code",
   "execution_count": 60,
   "id": "cd09460a",
   "metadata": {},
   "outputs": [
    {
     "data": {
      "text/plain": [
       "array([-1, -2, -3, -4, -5, -6])"
      ]
     },
     "execution_count": 60,
     "metadata": {},
     "output_type": "execute_result"
    }
   ],
   "source": [
    "array2=np.array([-1,-2,-3,-4,-5,-6])\n",
    "array2"
   ]
  },
  {
   "cell_type": "code",
   "execution_count": 61,
   "id": "b1557929",
   "metadata": {},
   "outputs": [
    {
     "ename": "ValueError",
     "evalue": "operands could not be broadcast together with shapes (5,) (6,) ",
     "output_type": "error",
     "traceback": [
      "\u001b[0;31m---------------------------------------------------------------------------\u001b[0m",
      "\u001b[0;31mValueError\u001b[0m                                Traceback (most recent call last)",
      "\u001b[0;32m/tmp/ipykernel_5824/306630169.py\u001b[0m in \u001b[0;36m<module>\u001b[0;34m\u001b[0m\n\u001b[0;32m----> 1\u001b[0;31m \u001b[0marray1\u001b[0m\u001b[0;34m+\u001b[0m\u001b[0marray2\u001b[0m\u001b[0;34m\u001b[0m\u001b[0;34m\u001b[0m\u001b[0m\n\u001b[0m",
      "\u001b[0;31mValueError\u001b[0m: operands could not be broadcast together with shapes (5,) (6,) "
     ]
    }
   ],
   "source": [
    "array1+array2"
   ]
  },
  {
   "cell_type": "code",
   "execution_count": 66,
   "id": "7bac40c0",
   "metadata": {},
   "outputs": [
    {
     "data": {
      "text/plain": [
       "array([[1., 1., 1., 1., 1.],\n",
       "       [1., 1., 1., 1., 1.],\n",
       "       [1., 1., 1., 1., 1.],\n",
       "       [1., 1., 1., 1., 1.],\n",
       "       [1., 1., 1., 1., 1.]])"
      ]
     },
     "execution_count": 66,
     "metadata": {},
     "output_type": "execute_result"
    }
   ],
   "source": [
    "matrice1=np.ones((5,5))\n",
    "matrice1"
   ]
  },
  {
   "cell_type": "code",
   "execution_count": 72,
   "id": "d6592a6b",
   "metadata": {},
   "outputs": [
    {
     "data": {
      "text/plain": [
       "array([[0.83093799],\n",
       "       [0.31556634],\n",
       "       [0.28795108],\n",
       "       [0.05650308],\n",
       "       [0.05882972]])"
      ]
     },
     "execution_count": 72,
     "metadata": {},
     "output_type": "execute_result"
    }
   ],
   "source": [
    "matrice2=np.random.uniform(0,1,(5,1))\n",
    "matrice2"
   ]
  },
  {
   "cell_type": "code",
   "execution_count": 73,
   "id": "5fa44b3a",
   "metadata": {},
   "outputs": [
    {
     "data": {
      "text/plain": [
       "array([[1.83093799, 1.83093799, 1.83093799, 1.83093799, 1.83093799],\n",
       "       [1.31556634, 1.31556634, 1.31556634, 1.31556634, 1.31556634],\n",
       "       [1.28795108, 1.28795108, 1.28795108, 1.28795108, 1.28795108],\n",
       "       [1.05650308, 1.05650308, 1.05650308, 1.05650308, 1.05650308],\n",
       "       [1.05882972, 1.05882972, 1.05882972, 1.05882972, 1.05882972]])"
      ]
     },
     "execution_count": 73,
     "metadata": {},
     "output_type": "execute_result"
    }
   ],
   "source": [
    "matrice1+matrice2"
   ]
  },
  {
   "cell_type": "code",
   "execution_count": 75,
   "id": "5c15c05f",
   "metadata": {},
   "outputs": [
    {
     "data": {
      "text/plain": [
       "array([[5., 5., 5., 5., 5.],\n",
       "       [5., 5., 5., 5., 5.],\n",
       "       [5., 5., 5., 5., 5.],\n",
       "       [5., 5., 5., 5., 5.],\n",
       "       [5., 5., 5., 5., 5.]])"
      ]
     },
     "execution_count": 75,
     "metadata": {},
     "output_type": "execute_result"
    }
   ],
   "source": [
    "matrice_5=4+np.ones((5,5))\n",
    "matrice_5"
   ]
  },
  {
   "cell_type": "code",
   "execution_count": null,
   "id": "45e2dfa3",
   "metadata": {},
   "outputs": [],
   "source": []
  }
 ],
 "metadata": {
  "kernelspec": {
   "display_name": "Python 3 (ipykernel)",
   "language": "python",
   "name": "python3"
  },
  "language_info": {
   "codemirror_mode": {
    "name": "ipython",
    "version": 3
   },
   "file_extension": ".py",
   "mimetype": "text/x-python",
   "name": "python",
   "nbconvert_exporter": "python",
   "pygments_lexer": "ipython3",
   "version": "3.9.13"
  }
 },
 "nbformat": 4,
 "nbformat_minor": 5
}
