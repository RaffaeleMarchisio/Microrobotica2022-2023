{
 "cells": [
  {
   "cell_type": "code",
   "execution_count": 13,
   "id": "cc25dda1",
   "metadata": {},
   "outputs": [
    {
     "name": "stdout",
     "output_type": "stream",
     "text": [
      "inserire una stringa:ciao\n"
     ]
    }
   ],
   "source": [
    "string=input(\"inserire una stringa:\")"
   ]
  },
  {
   "cell_type": "code",
   "execution_count": 14,
   "id": "16e57f4b",
   "metadata": {},
   "outputs": [],
   "source": [
    "def elimina_vocali(str):\n",
    "    str2=[i for i in string if i!='A' and i!='a' and i!='è' and i!='E' and i!='e'and i!='I' and i!='i'and i!='O' and i!='o'and i!='U' and i!='u']\n",
    "    str_no_voc=\"\".join(str2)\n",
    "    print(f\"stringa senza vocali:{str_no_voc}\")"
   ]
  },
  {
   "cell_type": "code",
   "execution_count": 15,
   "id": "91fe31f4",
   "metadata": {},
   "outputs": [
    {
     "name": "stdout",
     "output_type": "stream",
     "text": [
      "stringa senza vocali:c\n"
     ]
    }
   ],
   "source": [
    "elimina_vocali(str)"
   ]
  },
  {
   "cell_type": "code",
   "execution_count": 18,
   "id": "69332daa",
   "metadata": {},
   "outputs": [],
   "source": [
    "vocali=[\"a\",\"e\",\"i\",\"o\",\"u\"]\n",
    "lista=[lettera for lettera in string if lettera not in vocali]\n"
   ]
  },
  {
   "cell_type": "code",
   "execution_count": 19,
   "id": "1f92dd59",
   "metadata": {},
   "outputs": [
    {
     "data": {
      "text/plain": [
       "['c']"
      ]
     },
     "execution_count": 19,
     "metadata": {},
     "output_type": "execute_result"
    }
   ],
   "source": [
    "lista"
   ]
  },
  {
   "cell_type": "code",
   "execution_count": null,
   "id": "35866845",
   "metadata": {},
   "outputs": [],
   "source": []
  }
 ],
 "metadata": {
  "kernelspec": {
   "display_name": "Python 3 (ipykernel)",
   "language": "python",
   "name": "python3"
  },
  "language_info": {
   "codemirror_mode": {
    "name": "ipython",
    "version": 3
   },
   "file_extension": ".py",
   "mimetype": "text/x-python",
   "name": "python",
   "nbconvert_exporter": "python",
   "pygments_lexer": "ipython3",
   "version": "3.9.12"
  }
 },
 "nbformat": 4,
 "nbformat_minor": 5
}
