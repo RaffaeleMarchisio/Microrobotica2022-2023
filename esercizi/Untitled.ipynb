{
 "cells": [
  {
   "cell_type": "markdown",
   "id": "916e7e8f",
   "metadata": {},
   "source": [
    "# SHORTCUT\n",
    "<a href=\"https://jupyter-notebook.readthedocs.io/en/stable/\"><img src=\"jupyter-logo.svg\" alt=\"Immagine\" title=\"Jupyter\"/></a>\n",
    "\n",
    "* `INVIO` entra in *editing mode* \n",
    "\n",
    "\n",
    "\n"
   ]
  },
  {
   "cell_type": "markdown",
   "id": "ec5dad13",
   "metadata": {},
   "source": [
    "__le seguenti sini utili nelle celle di tipi *Code*__"
   ]
  },
  {
   "cell_type": "code",
   "execution_count": null,
   "id": "b29df031",
   "metadata": {},
   "outputs": [],
   "source": []
  }
 ],
 "metadata": {
  "kernelspec": {
   "display_name": "Python 3 (ipykernel)",
   "language": "python",
   "name": "python3"
  },
  "language_info": {
   "codemirror_mode": {
    "name": "ipython",
    "version": 3
   },
   "file_extension": ".py",
   "mimetype": "text/x-python",
   "name": "python",
   "nbconvert_exporter": "python",
   "pygments_lexer": "ipython3",
   "version": "3.9.13"
  }
 },
 "nbformat": 4,
 "nbformat_minor": 5
}
