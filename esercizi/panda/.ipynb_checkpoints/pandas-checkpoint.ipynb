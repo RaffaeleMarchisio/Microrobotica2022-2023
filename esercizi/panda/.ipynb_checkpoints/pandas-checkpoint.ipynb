{
 "cells": [
  {
   "cell_type": "code",
   "execution_count": 2,
   "id": "4dd30ae5",
   "metadata": {},
   "outputs": [],
   "source": [
    "import pandas as pd"
   ]
  },
  {
   "cell_type": "code",
   "execution_count": 3,
   "id": "4e7db010",
   "metadata": {},
   "outputs": [],
   "source": [
    "dizio={\"giorno\":[\"Lunedì\",\"martedi\",\"Mercoledi\",\"Giovedi\",\"Venerdì\",\"Sabato\",\"Domenica\"],\"prezzo\":[3,4,5,8,8,5,4]}"
   ]
  },
  {
   "cell_type": "code",
   "execution_count": 10,
   "id": "81520389",
   "metadata": {},
   "outputs": [
    {
     "data": {
      "text/plain": [
       "Index(['giorno', 'prezzo'], dtype='object')"
      ]
     },
     "execution_count": 10,
     "metadata": {},
     "output_type": "execute_result"
    }
   ],
   "source": [
    "data=pd.DataFrame(dizio)\n",
    "data.columns"
   ]
  },
  {
   "cell_type": "code",
   "execution_count": null,
   "id": "f6f2c50d",
   "metadata": {},
   "outputs": [],
   "source": []
  }
 ],
 "metadata": {
  "kernelspec": {
   "display_name": "Python 3 (ipykernel)",
   "language": "python",
   "name": "python3"
  },
  "language_info": {
   "codemirror_mode": {
    "name": "ipython",
    "version": 3
   },
   "file_extension": ".py",
   "mimetype": "text/x-python",
   "name": "python",
   "nbconvert_exporter": "python",
   "pygments_lexer": "ipython3",
   "version": "3.9.13"
  }
 },
 "nbformat": 4,
 "nbformat_minor": 5
}
