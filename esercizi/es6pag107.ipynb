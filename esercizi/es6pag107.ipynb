{
 "cells": [
  {
   "cell_type": "code",
   "execution_count": 1,
   "id": "f7ac6e5a",
   "metadata": {},
   "outputs": [],
   "source": [
    "import numpy as np"
   ]
  },
  {
   "cell_type": "code",
   "execution_count": 5,
   "id": "e5300903",
   "metadata": {},
   "outputs": [
    {
     "data": {
      "text/plain": [
       "array([8, 7, 2, 0, 1, 7, 5, 6, 0, 5, 3, 5, 1, 8, 0, 8, 3, 8, 7, 9, 8, 7,\n",
       "       8, 3, 9, 4, 9, 0, 9, 2, 2, 7, 2, 6, 4, 4, 9, 1, 7, 6, 5, 2, 2, 7,\n",
       "       8, 3, 8, 6, 1, 0, 1, 6, 1, 0, 5, 9, 2, 0, 1, 9, 3, 5, 9, 7, 6, 6,\n",
       "       4, 9, 9, 2, 7, 0, 0, 8, 5, 8, 8, 1, 9, 0, 1, 4, 5, 6, 6, 4, 3, 9,\n",
       "       0, 2, 3, 4, 6, 9, 5, 4, 6, 7, 5, 2])"
      ]
     },
     "execution_count": 5,
     "metadata": {},
     "output_type": "execute_result"
    }
   ],
   "source": [
    "array=np.random.randint(0,10,100)\n",
    "array"
   ]
  },
  {
   "cell_type": "code",
   "execution_count": 9,
   "id": "09cbb93e",
   "metadata": {},
   "outputs": [
    {
     "data": {
      "text/plain": [
       "array([1, 2, 3])"
      ]
     },
     "execution_count": 9,
     "metadata": {},
     "output_type": "execute_result"
    }
   ],
   "source": [
    "array_seq=np.arange(1,4)\n",
    "array_seq"
   ]
  },
  {
   "cell_type": "code",
   "execution_count": 10,
   "id": "358d0e01",
   "metadata": {},
   "outputs": [
    {
     "name": "stderr",
     "output_type": "stream",
     "text": [
      "/tmp/ipykernel_4857/626928512.py:1: DeprecationWarning: elementwise comparison failed; this will raise an error in the future.\n",
      "  array==array_seq\n"
     ]
    },
    {
     "data": {
      "text/plain": [
       "False"
      ]
     },
     "execution_count": 10,
     "metadata": {},
     "output_type": "execute_result"
    }
   ],
   "source": [
    "array==array_seq"
   ]
  },
  {
   "cell_type": "code",
   "execution_count": null,
   "id": "3882481a",
   "metadata": {},
   "outputs": [],
   "source": []
  }
 ],
 "metadata": {
  "kernelspec": {
   "display_name": "Python 3 (ipykernel)",
   "language": "python",
   "name": "python3"
  },
  "language_info": {
   "codemirror_mode": {
    "name": "ipython",
    "version": 3
   },
   "file_extension": ".py",
   "mimetype": "text/x-python",
   "name": "python",
   "nbconvert_exporter": "python",
   "pygments_lexer": "ipython3",
   "version": "3.9.13"
  }
 },
 "nbformat": 4,
 "nbformat_minor": 5
}
